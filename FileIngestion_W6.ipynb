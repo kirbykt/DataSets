{
  "nbformat": 4,
  "nbformat_minor": 0,
  "metadata": {
    "colab": {
      "provenance": [],
      "authorship_tag": "ABX9TyO8EYplRQuZoF79ZY10k+F/",
      "include_colab_link": true
    },
    "kernelspec": {
      "name": "python3",
      "display_name": "Python 3"
    },
    "language_info": {
      "name": "python"
    }
  },
  "cells": [
    {
      "cell_type": "markdown",
      "metadata": {
        "id": "view-in-github",
        "colab_type": "text"
      },
      "source": [
        "<a href=\"https://colab.research.google.com/github/kirbykt/DataSets/blob/main/FileIngestion_W6.ipynb\" target=\"_parent\"><img src=\"https://colab.research.google.com/assets/colab-badge.svg\" alt=\"Open In Colab\"/></a>"
      ]
    },
    {
      "cell_type": "code",
      "execution_count": 1,
      "metadata": {
        "colab": {
          "base_uri": "https://localhost:8080/"
        },
        "id": "1XXh6lmJTIyD",
        "outputId": "29299602-bb4b-4ccc-f999-c53da3112110"
      },
      "outputs": [
        {
          "output_type": "stream",
          "name": "stdout",
          "text": [
            "Mounted at /content/drive\n"
          ]
        }
      ],
      "source": [
        "from google.colab import drive\n",
        "drive.mount('/content/drive')\n"
      ]
    },
    {
      "cell_type": "code",
      "source": [
        "!unzip \"/content/drive/MyDrive/Colab Notebooks/archive.zip\" -d /content/pump_data"
      ],
      "metadata": {
        "colab": {
          "base_uri": "https://localhost:8080/"
        },
        "id": "44IycyUtTrCI",
        "outputId": "1a62c851-5c4d-4521-f276-c3dee5241c5d"
      },
      "execution_count": 2,
      "outputs": [
        {
          "output_type": "stream",
          "name": "stdout",
          "text": [
            "Archive:  /content/drive/MyDrive/Colab Notebooks/archive.zip\n",
            "  inflating: /content/pump_data/chunk_1.csv  \n",
            "  inflating: /content/pump_data/chunk_10.csv  \n",
            "  inflating: /content/pump_data/chunk_11.csv  \n",
            "  inflating: /content/pump_data/chunk_12.csv  \n",
            "  inflating: /content/pump_data/chunk_13.csv  \n",
            "  inflating: /content/pump_data/chunk_14.csv  \n",
            "  inflating: /content/pump_data/chunk_15.csv  \n",
            "  inflating: /content/pump_data/chunk_16.csv  \n",
            "  inflating: /content/pump_data/chunk_17.csv  \n",
            "  inflating: /content/pump_data/chunk_18.csv  \n",
            "  inflating: /content/pump_data/chunk_19.csv  \n",
            "  inflating: /content/pump_data/chunk_2.csv  \n",
            "  inflating: /content/pump_data/chunk_20.csv  \n",
            "  inflating: /content/pump_data/chunk_21.csv  \n",
            "  inflating: /content/pump_data/chunk_22.csv  \n",
            "  inflating: /content/pump_data/chunk_23.csv  \n",
            "  inflating: /content/pump_data/chunk_24.csv  \n",
            "  inflating: /content/pump_data/chunk_25.csv  \n",
            "  inflating: /content/pump_data/chunk_26.csv  \n",
            "  inflating: /content/pump_data/chunk_27.csv  \n",
            "  inflating: /content/pump_data/chunk_28.csv  \n",
            "  inflating: /content/pump_data/chunk_29.csv  \n",
            "  inflating: /content/pump_data/chunk_3.csv  \n",
            "  inflating: /content/pump_data/chunk_30.csv  \n",
            "  inflating: /content/pump_data/chunk_31.csv  \n",
            "  inflating: /content/pump_data/chunk_32.csv  \n",
            "  inflating: /content/pump_data/chunk_33.csv  \n",
            "  inflating: /content/pump_data/chunk_34.csv  \n",
            "  inflating: /content/pump_data/chunk_35.csv  \n",
            "  inflating: /content/pump_data/chunk_36.csv  \n",
            "  inflating: /content/pump_data/chunk_37.csv  \n",
            "  inflating: /content/pump_data/chunk_38.csv  \n",
            "  inflating: /content/pump_data/chunk_39.csv  \n",
            "  inflating: /content/pump_data/chunk_4.csv  \n",
            "  inflating: /content/pump_data/chunk_40.csv  \n",
            "  inflating: /content/pump_data/chunk_41.csv  \n",
            "  inflating: /content/pump_data/chunk_5.csv  \n",
            "  inflating: /content/pump_data/chunk_6.csv  \n",
            "  inflating: /content/pump_data/chunk_7.csv  \n",
            "  inflating: /content/pump_data/chunk_8.csv  \n",
            "  inflating: /content/pump_data/chunk_9.csv  \n",
            "  inflating: /content/pump_data/dune_token_info.csv  \n",
            "  inflating: /content/pump_data/dune_token_info_v2.csv  \n",
            "  inflating: /content/pump_data/test_unlabeled.csv  \n",
            "  inflating: /content/pump_data/token_info_onchain_divers.csv  \n",
            "  inflating: /content/pump_data/token_info_onchain_divers_v2.csv  \n",
            "  inflating: /content/pump_data/train.csv  \n"
          ]
        }
      ]
    },
    {
      "cell_type": "code",
      "source": [
        "import os\n",
        "\n",
        "for filename in os.listdir(\"/content/pump_data\"):\n",
        "    print(filename)"
      ],
      "metadata": {
        "colab": {
          "base_uri": "https://localhost:8080/"
        },
        "id": "3iA2b0DjVz6r",
        "outputId": "99e1ccaa-a411-4bb8-8577-e2d327ed5cac"
      },
      "execution_count": 3,
      "outputs": [
        {
          "output_type": "stream",
          "name": "stdout",
          "text": [
            "chunk_34.csv\n",
            "chunk_22.csv\n",
            "test_unlabeled.csv\n",
            "chunk_27.csv\n",
            "chunk_25.csv\n",
            "chunk_35.csv\n",
            "chunk_2.csv\n",
            "chunk_15.csv\n",
            "chunk_9.csv\n",
            "chunk_3.csv\n",
            "chunk_37.csv\n",
            "chunk_21.csv\n",
            "chunk_7.csv\n",
            "chunk_5.csv\n",
            "dune_token_info.csv\n",
            "chunk_4.csv\n",
            "chunk_29.csv\n",
            "chunk_28.csv\n",
            "chunk_19.csv\n",
            "chunk_8.csv\n",
            "chunk_24.csv\n",
            "chunk_1.csv\n",
            "chunk_10.csv\n",
            "token_info_onchain_divers.csv\n",
            "chunk_40.csv\n",
            "chunk_11.csv\n",
            "chunk_26.csv\n",
            "chunk_36.csv\n",
            "chunk_30.csv\n",
            "chunk_23.csv\n",
            "chunk_16.csv\n",
            "chunk_12.csv\n",
            "chunk_14.csv\n",
            "chunk_20.csv\n",
            "chunk_32.csv\n",
            "dune_token_info_v2.csv\n",
            "train.csv\n",
            "chunk_6.csv\n",
            "token_info_onchain_divers_v2.csv\n",
            "chunk_33.csv\n",
            "chunk_17.csv\n",
            "chunk_41.csv\n",
            "chunk_31.csv\n",
            "chunk_13.csv\n",
            "chunk_18.csv\n",
            "chunk_39.csv\n",
            "chunk_38.csv\n"
          ]
        }
      ]
    },
    {
      "cell_type": "code",
      "source": [
        "import pandas as pd\n",
        "\n",
        "df = pd.read_csv(\"/content/pump_data/train.csv\")\n",
        "df.head()"
      ],
      "metadata": {
        "colab": {
          "base_uri": "https://localhost:8080/",
          "height": 206
        },
        "id": "W5Va60A4XIyf",
        "outputId": "0d9a350e-c760-4f67-f1ee-140dd385a29a"
      },
      "execution_count": 5,
      "outputs": [
        {
          "output_type": "execute_result",
          "data": {
            "text/plain": [
              "                                           mint   slot_min  slot_graduated  \\\n",
              "0   Ab2voNJxp9xM2sdoF6JRJV8dtZ6hGm8yMSt3xAMpump  317876496             NaN   \n",
              "1  BmTDA5HqcemLkEgpyK25sDhbvk652CTXjdWEa8fLpump  317876496             NaN   \n",
              "2  FZ8wX1RAwV72gniwc9quiZSXHnrECQwoCxAXCWRipump  317876496             NaN   \n",
              "3  4FJwryCAMMePNeWw9LTBXXfXABdkKcAxkTT6h9pdpump  317876500             NaN   \n",
              "4  DeXchZLMzFm9nfvkfTKiXvBWWEpGMF6VDzvbMB6mpump  317876500             NaN   \n",
              "\n",
              "   has_graduated  \n",
              "0          False  \n",
              "1          False  \n",
              "2          False  \n",
              "3          False  \n",
              "4          False  "
            ],
            "text/html": [
              "\n",
              "  <div id=\"df-63c02663-77cb-43af-8f2a-030bc20c6659\" class=\"colab-df-container\">\n",
              "    <div>\n",
              "<style scoped>\n",
              "    .dataframe tbody tr th:only-of-type {\n",
              "        vertical-align: middle;\n",
              "    }\n",
              "\n",
              "    .dataframe tbody tr th {\n",
              "        vertical-align: top;\n",
              "    }\n",
              "\n",
              "    .dataframe thead th {\n",
              "        text-align: right;\n",
              "    }\n",
              "</style>\n",
              "<table border=\"1\" class=\"dataframe\">\n",
              "  <thead>\n",
              "    <tr style=\"text-align: right;\">\n",
              "      <th></th>\n",
              "      <th>mint</th>\n",
              "      <th>slot_min</th>\n",
              "      <th>slot_graduated</th>\n",
              "      <th>has_graduated</th>\n",
              "    </tr>\n",
              "  </thead>\n",
              "  <tbody>\n",
              "    <tr>\n",
              "      <th>0</th>\n",
              "      <td>Ab2voNJxp9xM2sdoF6JRJV8dtZ6hGm8yMSt3xAMpump</td>\n",
              "      <td>317876496</td>\n",
              "      <td>NaN</td>\n",
              "      <td>False</td>\n",
              "    </tr>\n",
              "    <tr>\n",
              "      <th>1</th>\n",
              "      <td>BmTDA5HqcemLkEgpyK25sDhbvk652CTXjdWEa8fLpump</td>\n",
              "      <td>317876496</td>\n",
              "      <td>NaN</td>\n",
              "      <td>False</td>\n",
              "    </tr>\n",
              "    <tr>\n",
              "      <th>2</th>\n",
              "      <td>FZ8wX1RAwV72gniwc9quiZSXHnrECQwoCxAXCWRipump</td>\n",
              "      <td>317876496</td>\n",
              "      <td>NaN</td>\n",
              "      <td>False</td>\n",
              "    </tr>\n",
              "    <tr>\n",
              "      <th>3</th>\n",
              "      <td>4FJwryCAMMePNeWw9LTBXXfXABdkKcAxkTT6h9pdpump</td>\n",
              "      <td>317876500</td>\n",
              "      <td>NaN</td>\n",
              "      <td>False</td>\n",
              "    </tr>\n",
              "    <tr>\n",
              "      <th>4</th>\n",
              "      <td>DeXchZLMzFm9nfvkfTKiXvBWWEpGMF6VDzvbMB6mpump</td>\n",
              "      <td>317876500</td>\n",
              "      <td>NaN</td>\n",
              "      <td>False</td>\n",
              "    </tr>\n",
              "  </tbody>\n",
              "</table>\n",
              "</div>\n",
              "    <div class=\"colab-df-buttons\">\n",
              "\n",
              "  <div class=\"colab-df-container\">\n",
              "    <button class=\"colab-df-convert\" onclick=\"convertToInteractive('df-63c02663-77cb-43af-8f2a-030bc20c6659')\"\n",
              "            title=\"Convert this dataframe to an interactive table.\"\n",
              "            style=\"display:none;\">\n",
              "\n",
              "  <svg xmlns=\"http://www.w3.org/2000/svg\" height=\"24px\" viewBox=\"0 -960 960 960\">\n",
              "    <path d=\"M120-120v-720h720v720H120Zm60-500h600v-160H180v160Zm220 220h160v-160H400v160Zm0 220h160v-160H400v160ZM180-400h160v-160H180v160Zm440 0h160v-160H620v160ZM180-180h160v-160H180v160Zm440 0h160v-160H620v160Z\"/>\n",
              "  </svg>\n",
              "    </button>\n",
              "\n",
              "  <style>\n",
              "    .colab-df-container {\n",
              "      display:flex;\n",
              "      gap: 12px;\n",
              "    }\n",
              "\n",
              "    .colab-df-convert {\n",
              "      background-color: #E8F0FE;\n",
              "      border: none;\n",
              "      border-radius: 50%;\n",
              "      cursor: pointer;\n",
              "      display: none;\n",
              "      fill: #1967D2;\n",
              "      height: 32px;\n",
              "      padding: 0 0 0 0;\n",
              "      width: 32px;\n",
              "    }\n",
              "\n",
              "    .colab-df-convert:hover {\n",
              "      background-color: #E2EBFA;\n",
              "      box-shadow: 0px 1px 2px rgba(60, 64, 67, 0.3), 0px 1px 3px 1px rgba(60, 64, 67, 0.15);\n",
              "      fill: #174EA6;\n",
              "    }\n",
              "\n",
              "    .colab-df-buttons div {\n",
              "      margin-bottom: 4px;\n",
              "    }\n",
              "\n",
              "    [theme=dark] .colab-df-convert {\n",
              "      background-color: #3B4455;\n",
              "      fill: #D2E3FC;\n",
              "    }\n",
              "\n",
              "    [theme=dark] .colab-df-convert:hover {\n",
              "      background-color: #434B5C;\n",
              "      box-shadow: 0px 1px 3px 1px rgba(0, 0, 0, 0.15);\n",
              "      filter: drop-shadow(0px 1px 2px rgba(0, 0, 0, 0.3));\n",
              "      fill: #FFFFFF;\n",
              "    }\n",
              "  </style>\n",
              "\n",
              "    <script>\n",
              "      const buttonEl =\n",
              "        document.querySelector('#df-63c02663-77cb-43af-8f2a-030bc20c6659 button.colab-df-convert');\n",
              "      buttonEl.style.display =\n",
              "        google.colab.kernel.accessAllowed ? 'block' : 'none';\n",
              "\n",
              "      async function convertToInteractive(key) {\n",
              "        const element = document.querySelector('#df-63c02663-77cb-43af-8f2a-030bc20c6659');\n",
              "        const dataTable =\n",
              "          await google.colab.kernel.invokeFunction('convertToInteractive',\n",
              "                                                    [key], {});\n",
              "        if (!dataTable) return;\n",
              "\n",
              "        const docLinkHtml = 'Like what you see? Visit the ' +\n",
              "          '<a target=\"_blank\" href=https://colab.research.google.com/notebooks/data_table.ipynb>data table notebook</a>'\n",
              "          + ' to learn more about interactive tables.';\n",
              "        element.innerHTML = '';\n",
              "        dataTable['output_type'] = 'display_data';\n",
              "        await google.colab.output.renderOutput(dataTable, element);\n",
              "        const docLink = document.createElement('div');\n",
              "        docLink.innerHTML = docLinkHtml;\n",
              "        element.appendChild(docLink);\n",
              "      }\n",
              "    </script>\n",
              "  </div>\n",
              "\n",
              "\n",
              "<div id=\"df-0e764c32-7bb2-4f73-9bca-2226c971c56b\">\n",
              "  <button class=\"colab-df-quickchart\" onclick=\"quickchart('df-0e764c32-7bb2-4f73-9bca-2226c971c56b')\"\n",
              "            title=\"Suggest charts\"\n",
              "            style=\"display:none;\">\n",
              "\n",
              "<svg xmlns=\"http://www.w3.org/2000/svg\" height=\"24px\"viewBox=\"0 0 24 24\"\n",
              "     width=\"24px\">\n",
              "    <g>\n",
              "        <path d=\"M19 3H5c-1.1 0-2 .9-2 2v14c0 1.1.9 2 2 2h14c1.1 0 2-.9 2-2V5c0-1.1-.9-2-2-2zM9 17H7v-7h2v7zm4 0h-2V7h2v10zm4 0h-2v-4h2v4z\"/>\n",
              "    </g>\n",
              "</svg>\n",
              "  </button>\n",
              "\n",
              "<style>\n",
              "  .colab-df-quickchart {\n",
              "      --bg-color: #E8F0FE;\n",
              "      --fill-color: #1967D2;\n",
              "      --hover-bg-color: #E2EBFA;\n",
              "      --hover-fill-color: #174EA6;\n",
              "      --disabled-fill-color: #AAA;\n",
              "      --disabled-bg-color: #DDD;\n",
              "  }\n",
              "\n",
              "  [theme=dark] .colab-df-quickchart {\n",
              "      --bg-color: #3B4455;\n",
              "      --fill-color: #D2E3FC;\n",
              "      --hover-bg-color: #434B5C;\n",
              "      --hover-fill-color: #FFFFFF;\n",
              "      --disabled-bg-color: #3B4455;\n",
              "      --disabled-fill-color: #666;\n",
              "  }\n",
              "\n",
              "  .colab-df-quickchart {\n",
              "    background-color: var(--bg-color);\n",
              "    border: none;\n",
              "    border-radius: 50%;\n",
              "    cursor: pointer;\n",
              "    display: none;\n",
              "    fill: var(--fill-color);\n",
              "    height: 32px;\n",
              "    padding: 0;\n",
              "    width: 32px;\n",
              "  }\n",
              "\n",
              "  .colab-df-quickchart:hover {\n",
              "    background-color: var(--hover-bg-color);\n",
              "    box-shadow: 0 1px 2px rgba(60, 64, 67, 0.3), 0 1px 3px 1px rgba(60, 64, 67, 0.15);\n",
              "    fill: var(--button-hover-fill-color);\n",
              "  }\n",
              "\n",
              "  .colab-df-quickchart-complete:disabled,\n",
              "  .colab-df-quickchart-complete:disabled:hover {\n",
              "    background-color: var(--disabled-bg-color);\n",
              "    fill: var(--disabled-fill-color);\n",
              "    box-shadow: none;\n",
              "  }\n",
              "\n",
              "  .colab-df-spinner {\n",
              "    border: 2px solid var(--fill-color);\n",
              "    border-color: transparent;\n",
              "    border-bottom-color: var(--fill-color);\n",
              "    animation:\n",
              "      spin 1s steps(1) infinite;\n",
              "  }\n",
              "\n",
              "  @keyframes spin {\n",
              "    0% {\n",
              "      border-color: transparent;\n",
              "      border-bottom-color: var(--fill-color);\n",
              "      border-left-color: var(--fill-color);\n",
              "    }\n",
              "    20% {\n",
              "      border-color: transparent;\n",
              "      border-left-color: var(--fill-color);\n",
              "      border-top-color: var(--fill-color);\n",
              "    }\n",
              "    30% {\n",
              "      border-color: transparent;\n",
              "      border-left-color: var(--fill-color);\n",
              "      border-top-color: var(--fill-color);\n",
              "      border-right-color: var(--fill-color);\n",
              "    }\n",
              "    40% {\n",
              "      border-color: transparent;\n",
              "      border-right-color: var(--fill-color);\n",
              "      border-top-color: var(--fill-color);\n",
              "    }\n",
              "    60% {\n",
              "      border-color: transparent;\n",
              "      border-right-color: var(--fill-color);\n",
              "    }\n",
              "    80% {\n",
              "      border-color: transparent;\n",
              "      border-right-color: var(--fill-color);\n",
              "      border-bottom-color: var(--fill-color);\n",
              "    }\n",
              "    90% {\n",
              "      border-color: transparent;\n",
              "      border-bottom-color: var(--fill-color);\n",
              "    }\n",
              "  }\n",
              "</style>\n",
              "\n",
              "  <script>\n",
              "    async function quickchart(key) {\n",
              "      const quickchartButtonEl =\n",
              "        document.querySelector('#' + key + ' button');\n",
              "      quickchartButtonEl.disabled = true;  // To prevent multiple clicks.\n",
              "      quickchartButtonEl.classList.add('colab-df-spinner');\n",
              "      try {\n",
              "        const charts = await google.colab.kernel.invokeFunction(\n",
              "            'suggestCharts', [key], {});\n",
              "      } catch (error) {\n",
              "        console.error('Error during call to suggestCharts:', error);\n",
              "      }\n",
              "      quickchartButtonEl.classList.remove('colab-df-spinner');\n",
              "      quickchartButtonEl.classList.add('colab-df-quickchart-complete');\n",
              "    }\n",
              "    (() => {\n",
              "      let quickchartButtonEl =\n",
              "        document.querySelector('#df-0e764c32-7bb2-4f73-9bca-2226c971c56b button');\n",
              "      quickchartButtonEl.style.display =\n",
              "        google.colab.kernel.accessAllowed ? 'block' : 'none';\n",
              "    })();\n",
              "  </script>\n",
              "</div>\n",
              "\n",
              "    </div>\n",
              "  </div>\n"
            ],
            "application/vnd.google.colaboratory.intrinsic+json": {
              "type": "dataframe",
              "variable_name": "df"
            }
          },
          "metadata": {},
          "execution_count": 5
        }
      ]
    },
    {
      "cell_type": "code",
      "source": [
        "df = pd.read_csv(\"/content/pump_data/chunk_1.csv\")\n",
        "df.head()"
      ],
      "metadata": {
        "colab": {
          "base_uri": "https://localhost:8080/",
          "height": 313
        },
        "id": "sSIpDenMXPyS",
        "outputId": "22ab4387-7e60-49a6-d759-9e52889c1029"
      },
      "execution_count": 6,
      "outputs": [
        {
          "output_type": "execute_result",
          "data": {
            "text/plain": [
              "            block_time       slot  tx_idx  \\\n",
              "0  2025-02-01 16:00:00  317876496    1897   \n",
              "1  2025-02-01 16:00:00  317876496    1794   \n",
              "2  2025-02-01 16:00:00  317876496    1880   \n",
              "3  2025-02-01 16:00:01  317876499    1350   \n",
              "4  2025-02-01 16:00:01  317876500    2389   \n",
              "\n",
              "                                 signing_wallet direction  \\\n",
              "0  EXoaGQc1taATjsXVPXhnVYddW4KiM1uQRhrYDdfi1x7b       buy   \n",
              "1  9Ypu1cMva6dE6k9Zk4aSSmSgJvMmJLTWXuGQhTYqt8mx       buy   \n",
              "2  3njxeVx5TjDYD27C1YsZW2JQzgmoYeATambcbw7Xn1ft      sell   \n",
              "3  DjZ1Cpxp6uKvYHU678QkjFj8XKfUwAmCtxUMG5QuBdJT       buy   \n",
              "4  6WgXuHPo9xWu1Mzt8hULYWFwpyh1WwhByPYjsF23h41A       buy   \n",
              "\n",
              "                                      base_coin  base_coin_amount  \\\n",
              "0   Ab2voNJxp9xM2sdoF6JRJV8dtZ6hGm8yMSt3xAMpump     5208861189189   \n",
              "1  BmTDA5HqcemLkEgpyK25sDhbvk652CTXjdWEa8fLpump     1785357737104   \n",
              "2  FZ8wX1RAwV72gniwc9quiZSXHnrECQwoCxAXCWRipump      721068391933   \n",
              "3  BmTDA5HqcemLkEgpyK25sDhbvk652CTXjdWEa8fLpump   115855160976852   \n",
              "4  4FJwryCAMMePNeWw9LTBXXfXABdkKcAxkTT6h9pdpump    67062499999999   \n",
              "\n",
              "   quote_coin_amount  virtual_token_balance_after  virtual_sol_balance_after  \\\n",
              "0          150740503             1052069532604495                30596837025   \n",
              "1           50000000             1071214642262896                30050000000   \n",
              "2           22610289             1013561711601751                31759289915   \n",
              "3         3644123135              955359481286044                33694123135   \n",
              "4         2000000000             1005937500000001                32000000000   \n",
              "\n",
              "                                           signature  provided_gas_fee  \\\n",
              "0  3Td5mZpy63TNuyHncgpJFvPudbU3fKcRaeTbqTRsdSLKnN...           3982833   \n",
              "1  3HHvJsNKWg6epToaZUouqDJdkysiJGKeBkWnhg7sPyWpFY...           9475209   \n",
              "2  2rfHemwRWv9t2xuY2umAq2aQrx8Gn73g6tAEDBTE2yrzcf...           4624039   \n",
              "3  Ky5DURUWgB7N3NfNAx5jf7a23pecQAwxbcwuwaWE2MPk7R...         170888000   \n",
              "4  4rSq4SK7a6zb2hNV6x89DfwZ9XFAyy4sp1g9YQfuG8A3Ep...            100000   \n",
              "\n",
              "   provided_gas_limit       fee  consumed_gas  \n",
              "0              200862    805000        161488  \n",
              "1              194994   1857609        194994  \n",
              "2              162000    754095         78540  \n",
              "3               80000  13676040         62135  \n",
              "4              500000     60000        201798  "
            ],
            "text/html": [
              "\n",
              "  <div id=\"df-294aa5a3-767a-4681-be47-1770d656635a\" class=\"colab-df-container\">\n",
              "    <div>\n",
              "<style scoped>\n",
              "    .dataframe tbody tr th:only-of-type {\n",
              "        vertical-align: middle;\n",
              "    }\n",
              "\n",
              "    .dataframe tbody tr th {\n",
              "        vertical-align: top;\n",
              "    }\n",
              "\n",
              "    .dataframe thead th {\n",
              "        text-align: right;\n",
              "    }\n",
              "</style>\n",
              "<table border=\"1\" class=\"dataframe\">\n",
              "  <thead>\n",
              "    <tr style=\"text-align: right;\">\n",
              "      <th></th>\n",
              "      <th>block_time</th>\n",
              "      <th>slot</th>\n",
              "      <th>tx_idx</th>\n",
              "      <th>signing_wallet</th>\n",
              "      <th>direction</th>\n",
              "      <th>base_coin</th>\n",
              "      <th>base_coin_amount</th>\n",
              "      <th>quote_coin_amount</th>\n",
              "      <th>virtual_token_balance_after</th>\n",
              "      <th>virtual_sol_balance_after</th>\n",
              "      <th>signature</th>\n",
              "      <th>provided_gas_fee</th>\n",
              "      <th>provided_gas_limit</th>\n",
              "      <th>fee</th>\n",
              "      <th>consumed_gas</th>\n",
              "    </tr>\n",
              "  </thead>\n",
              "  <tbody>\n",
              "    <tr>\n",
              "      <th>0</th>\n",
              "      <td>2025-02-01 16:00:00</td>\n",
              "      <td>317876496</td>\n",
              "      <td>1897</td>\n",
              "      <td>EXoaGQc1taATjsXVPXhnVYddW4KiM1uQRhrYDdfi1x7b</td>\n",
              "      <td>buy</td>\n",
              "      <td>Ab2voNJxp9xM2sdoF6JRJV8dtZ6hGm8yMSt3xAMpump</td>\n",
              "      <td>5208861189189</td>\n",
              "      <td>150740503</td>\n",
              "      <td>1052069532604495</td>\n",
              "      <td>30596837025</td>\n",
              "      <td>3Td5mZpy63TNuyHncgpJFvPudbU3fKcRaeTbqTRsdSLKnN...</td>\n",
              "      <td>3982833</td>\n",
              "      <td>200862</td>\n",
              "      <td>805000</td>\n",
              "      <td>161488</td>\n",
              "    </tr>\n",
              "    <tr>\n",
              "      <th>1</th>\n",
              "      <td>2025-02-01 16:00:00</td>\n",
              "      <td>317876496</td>\n",
              "      <td>1794</td>\n",
              "      <td>9Ypu1cMva6dE6k9Zk4aSSmSgJvMmJLTWXuGQhTYqt8mx</td>\n",
              "      <td>buy</td>\n",
              "      <td>BmTDA5HqcemLkEgpyK25sDhbvk652CTXjdWEa8fLpump</td>\n",
              "      <td>1785357737104</td>\n",
              "      <td>50000000</td>\n",
              "      <td>1071214642262896</td>\n",
              "      <td>30050000000</td>\n",
              "      <td>3HHvJsNKWg6epToaZUouqDJdkysiJGKeBkWnhg7sPyWpFY...</td>\n",
              "      <td>9475209</td>\n",
              "      <td>194994</td>\n",
              "      <td>1857609</td>\n",
              "      <td>194994</td>\n",
              "    </tr>\n",
              "    <tr>\n",
              "      <th>2</th>\n",
              "      <td>2025-02-01 16:00:00</td>\n",
              "      <td>317876496</td>\n",
              "      <td>1880</td>\n",
              "      <td>3njxeVx5TjDYD27C1YsZW2JQzgmoYeATambcbw7Xn1ft</td>\n",
              "      <td>sell</td>\n",
              "      <td>FZ8wX1RAwV72gniwc9quiZSXHnrECQwoCxAXCWRipump</td>\n",
              "      <td>721068391933</td>\n",
              "      <td>22610289</td>\n",
              "      <td>1013561711601751</td>\n",
              "      <td>31759289915</td>\n",
              "      <td>2rfHemwRWv9t2xuY2umAq2aQrx8Gn73g6tAEDBTE2yrzcf...</td>\n",
              "      <td>4624039</td>\n",
              "      <td>162000</td>\n",
              "      <td>754095</td>\n",
              "      <td>78540</td>\n",
              "    </tr>\n",
              "    <tr>\n",
              "      <th>3</th>\n",
              "      <td>2025-02-01 16:00:01</td>\n",
              "      <td>317876499</td>\n",
              "      <td>1350</td>\n",
              "      <td>DjZ1Cpxp6uKvYHU678QkjFj8XKfUwAmCtxUMG5QuBdJT</td>\n",
              "      <td>buy</td>\n",
              "      <td>BmTDA5HqcemLkEgpyK25sDhbvk652CTXjdWEa8fLpump</td>\n",
              "      <td>115855160976852</td>\n",
              "      <td>3644123135</td>\n",
              "      <td>955359481286044</td>\n",
              "      <td>33694123135</td>\n",
              "      <td>Ky5DURUWgB7N3NfNAx5jf7a23pecQAwxbcwuwaWE2MPk7R...</td>\n",
              "      <td>170888000</td>\n",
              "      <td>80000</td>\n",
              "      <td>13676040</td>\n",
              "      <td>62135</td>\n",
              "    </tr>\n",
              "    <tr>\n",
              "      <th>4</th>\n",
              "      <td>2025-02-01 16:00:01</td>\n",
              "      <td>317876500</td>\n",
              "      <td>2389</td>\n",
              "      <td>6WgXuHPo9xWu1Mzt8hULYWFwpyh1WwhByPYjsF23h41A</td>\n",
              "      <td>buy</td>\n",
              "      <td>4FJwryCAMMePNeWw9LTBXXfXABdkKcAxkTT6h9pdpump</td>\n",
              "      <td>67062499999999</td>\n",
              "      <td>2000000000</td>\n",
              "      <td>1005937500000001</td>\n",
              "      <td>32000000000</td>\n",
              "      <td>4rSq4SK7a6zb2hNV6x89DfwZ9XFAyy4sp1g9YQfuG8A3Ep...</td>\n",
              "      <td>100000</td>\n",
              "      <td>500000</td>\n",
              "      <td>60000</td>\n",
              "      <td>201798</td>\n",
              "    </tr>\n",
              "  </tbody>\n",
              "</table>\n",
              "</div>\n",
              "    <div class=\"colab-df-buttons\">\n",
              "\n",
              "  <div class=\"colab-df-container\">\n",
              "    <button class=\"colab-df-convert\" onclick=\"convertToInteractive('df-294aa5a3-767a-4681-be47-1770d656635a')\"\n",
              "            title=\"Convert this dataframe to an interactive table.\"\n",
              "            style=\"display:none;\">\n",
              "\n",
              "  <svg xmlns=\"http://www.w3.org/2000/svg\" height=\"24px\" viewBox=\"0 -960 960 960\">\n",
              "    <path d=\"M120-120v-720h720v720H120Zm60-500h600v-160H180v160Zm220 220h160v-160H400v160Zm0 220h160v-160H400v160ZM180-400h160v-160H180v160Zm440 0h160v-160H620v160ZM180-180h160v-160H180v160Zm440 0h160v-160H620v160Z\"/>\n",
              "  </svg>\n",
              "    </button>\n",
              "\n",
              "  <style>\n",
              "    .colab-df-container {\n",
              "      display:flex;\n",
              "      gap: 12px;\n",
              "    }\n",
              "\n",
              "    .colab-df-convert {\n",
              "      background-color: #E8F0FE;\n",
              "      border: none;\n",
              "      border-radius: 50%;\n",
              "      cursor: pointer;\n",
              "      display: none;\n",
              "      fill: #1967D2;\n",
              "      height: 32px;\n",
              "      padding: 0 0 0 0;\n",
              "      width: 32px;\n",
              "    }\n",
              "\n",
              "    .colab-df-convert:hover {\n",
              "      background-color: #E2EBFA;\n",
              "      box-shadow: 0px 1px 2px rgba(60, 64, 67, 0.3), 0px 1px 3px 1px rgba(60, 64, 67, 0.15);\n",
              "      fill: #174EA6;\n",
              "    }\n",
              "\n",
              "    .colab-df-buttons div {\n",
              "      margin-bottom: 4px;\n",
              "    }\n",
              "\n",
              "    [theme=dark] .colab-df-convert {\n",
              "      background-color: #3B4455;\n",
              "      fill: #D2E3FC;\n",
              "    }\n",
              "\n",
              "    [theme=dark] .colab-df-convert:hover {\n",
              "      background-color: #434B5C;\n",
              "      box-shadow: 0px 1px 3px 1px rgba(0, 0, 0, 0.15);\n",
              "      filter: drop-shadow(0px 1px 2px rgba(0, 0, 0, 0.3));\n",
              "      fill: #FFFFFF;\n",
              "    }\n",
              "  </style>\n",
              "\n",
              "    <script>\n",
              "      const buttonEl =\n",
              "        document.querySelector('#df-294aa5a3-767a-4681-be47-1770d656635a button.colab-df-convert');\n",
              "      buttonEl.style.display =\n",
              "        google.colab.kernel.accessAllowed ? 'block' : 'none';\n",
              "\n",
              "      async function convertToInteractive(key) {\n",
              "        const element = document.querySelector('#df-294aa5a3-767a-4681-be47-1770d656635a');\n",
              "        const dataTable =\n",
              "          await google.colab.kernel.invokeFunction('convertToInteractive',\n",
              "                                                    [key], {});\n",
              "        if (!dataTable) return;\n",
              "\n",
              "        const docLinkHtml = 'Like what you see? Visit the ' +\n",
              "          '<a target=\"_blank\" href=https://colab.research.google.com/notebooks/data_table.ipynb>data table notebook</a>'\n",
              "          + ' to learn more about interactive tables.';\n",
              "        element.innerHTML = '';\n",
              "        dataTable['output_type'] = 'display_data';\n",
              "        await google.colab.output.renderOutput(dataTable, element);\n",
              "        const docLink = document.createElement('div');\n",
              "        docLink.innerHTML = docLinkHtml;\n",
              "        element.appendChild(docLink);\n",
              "      }\n",
              "    </script>\n",
              "  </div>\n",
              "\n",
              "\n",
              "<div id=\"df-57bfef56-88af-445b-82ae-28d0e42c5944\">\n",
              "  <button class=\"colab-df-quickchart\" onclick=\"quickchart('df-57bfef56-88af-445b-82ae-28d0e42c5944')\"\n",
              "            title=\"Suggest charts\"\n",
              "            style=\"display:none;\">\n",
              "\n",
              "<svg xmlns=\"http://www.w3.org/2000/svg\" height=\"24px\"viewBox=\"0 0 24 24\"\n",
              "     width=\"24px\">\n",
              "    <g>\n",
              "        <path d=\"M19 3H5c-1.1 0-2 .9-2 2v14c0 1.1.9 2 2 2h14c1.1 0 2-.9 2-2V5c0-1.1-.9-2-2-2zM9 17H7v-7h2v7zm4 0h-2V7h2v10zm4 0h-2v-4h2v4z\"/>\n",
              "    </g>\n",
              "</svg>\n",
              "  </button>\n",
              "\n",
              "<style>\n",
              "  .colab-df-quickchart {\n",
              "      --bg-color: #E8F0FE;\n",
              "      --fill-color: #1967D2;\n",
              "      --hover-bg-color: #E2EBFA;\n",
              "      --hover-fill-color: #174EA6;\n",
              "      --disabled-fill-color: #AAA;\n",
              "      --disabled-bg-color: #DDD;\n",
              "  }\n",
              "\n",
              "  [theme=dark] .colab-df-quickchart {\n",
              "      --bg-color: #3B4455;\n",
              "      --fill-color: #D2E3FC;\n",
              "      --hover-bg-color: #434B5C;\n",
              "      --hover-fill-color: #FFFFFF;\n",
              "      --disabled-bg-color: #3B4455;\n",
              "      --disabled-fill-color: #666;\n",
              "  }\n",
              "\n",
              "  .colab-df-quickchart {\n",
              "    background-color: var(--bg-color);\n",
              "    border: none;\n",
              "    border-radius: 50%;\n",
              "    cursor: pointer;\n",
              "    display: none;\n",
              "    fill: var(--fill-color);\n",
              "    height: 32px;\n",
              "    padding: 0;\n",
              "    width: 32px;\n",
              "  }\n",
              "\n",
              "  .colab-df-quickchart:hover {\n",
              "    background-color: var(--hover-bg-color);\n",
              "    box-shadow: 0 1px 2px rgba(60, 64, 67, 0.3), 0 1px 3px 1px rgba(60, 64, 67, 0.15);\n",
              "    fill: var(--button-hover-fill-color);\n",
              "  }\n",
              "\n",
              "  .colab-df-quickchart-complete:disabled,\n",
              "  .colab-df-quickchart-complete:disabled:hover {\n",
              "    background-color: var(--disabled-bg-color);\n",
              "    fill: var(--disabled-fill-color);\n",
              "    box-shadow: none;\n",
              "  }\n",
              "\n",
              "  .colab-df-spinner {\n",
              "    border: 2px solid var(--fill-color);\n",
              "    border-color: transparent;\n",
              "    border-bottom-color: var(--fill-color);\n",
              "    animation:\n",
              "      spin 1s steps(1) infinite;\n",
              "  }\n",
              "\n",
              "  @keyframes spin {\n",
              "    0% {\n",
              "      border-color: transparent;\n",
              "      border-bottom-color: var(--fill-color);\n",
              "      border-left-color: var(--fill-color);\n",
              "    }\n",
              "    20% {\n",
              "      border-color: transparent;\n",
              "      border-left-color: var(--fill-color);\n",
              "      border-top-color: var(--fill-color);\n",
              "    }\n",
              "    30% {\n",
              "      border-color: transparent;\n",
              "      border-left-color: var(--fill-color);\n",
              "      border-top-color: var(--fill-color);\n",
              "      border-right-color: var(--fill-color);\n",
              "    }\n",
              "    40% {\n",
              "      border-color: transparent;\n",
              "      border-right-color: var(--fill-color);\n",
              "      border-top-color: var(--fill-color);\n",
              "    }\n",
              "    60% {\n",
              "      border-color: transparent;\n",
              "      border-right-color: var(--fill-color);\n",
              "    }\n",
              "    80% {\n",
              "      border-color: transparent;\n",
              "      border-right-color: var(--fill-color);\n",
              "      border-bottom-color: var(--fill-color);\n",
              "    }\n",
              "    90% {\n",
              "      border-color: transparent;\n",
              "      border-bottom-color: var(--fill-color);\n",
              "    }\n",
              "  }\n",
              "</style>\n",
              "\n",
              "  <script>\n",
              "    async function quickchart(key) {\n",
              "      const quickchartButtonEl =\n",
              "        document.querySelector('#' + key + ' button');\n",
              "      quickchartButtonEl.disabled = true;  // To prevent multiple clicks.\n",
              "      quickchartButtonEl.classList.add('colab-df-spinner');\n",
              "      try {\n",
              "        const charts = await google.colab.kernel.invokeFunction(\n",
              "            'suggestCharts', [key], {});\n",
              "      } catch (error) {\n",
              "        console.error('Error during call to suggestCharts:', error);\n",
              "      }\n",
              "      quickchartButtonEl.classList.remove('colab-df-spinner');\n",
              "      quickchartButtonEl.classList.add('colab-df-quickchart-complete');\n",
              "    }\n",
              "    (() => {\n",
              "      let quickchartButtonEl =\n",
              "        document.querySelector('#df-57bfef56-88af-445b-82ae-28d0e42c5944 button');\n",
              "      quickchartButtonEl.style.display =\n",
              "        google.colab.kernel.accessAllowed ? 'block' : 'none';\n",
              "    })();\n",
              "  </script>\n",
              "</div>\n",
              "\n",
              "    </div>\n",
              "  </div>\n"
            ],
            "application/vnd.google.colaboratory.intrinsic+json": {
              "type": "dataframe",
              "variable_name": "df"
            }
          },
          "metadata": {},
          "execution_count": 6
        }
      ]
    },
    {
      "cell_type": "code",
      "source": [
        "%%writefile testutility.py\n",
        "import logging\n",
        "import re\n",
        "\n",
        "# Set up logging\n",
        "logging.basicConfig(filename='file.log', level=logging.INFO, format='%(asctime)s:%(levelname)s:%(message)s')\n",
        "\n",
        "# Clean column names\n",
        "def clean_column_names(col_list):\n",
        "    cleaned = [re.sub('[^A-Za-z0-9_]+', '', col.strip().replace(' ', '_')) for col in col_list]\n",
        "    return cleaned\n",
        "\n",
        "# Validate headers\n",
        "def col_header_val(expected_list, actual_list):\n",
        "    if expected_list == actual_list:\n",
        "        logging.info(\"Column names match expected values.\")\n",
        "        return True\n",
        "    else:\n",
        "        logging.warning(f\"Mismatch in column names.\\nExpected: {expected_list}\\nActual: {actual_list}\")\n",
        "        return False"
      ],
      "metadata": {
        "colab": {
          "base_uri": "https://localhost:8080/"
        },
        "id": "ZGC1WZzLX-1k",
        "outputId": "1a14269d-35af-4377-fd5b-8cde0a364ca2"
      },
      "execution_count": 8,
      "outputs": [
        {
          "output_type": "stream",
          "name": "stdout",
          "text": [
            "Overwriting testutility.py\n"
          ]
        }
      ]
    },
    {
      "cell_type": "code",
      "source": [
        "!pip install dask[complete] modin[ray] ray --quiet"
      ],
      "metadata": {
        "colab": {
          "base_uri": "https://localhost:8080/"
        },
        "id": "lbUTO6TqZ4-_",
        "outputId": "6ae8ef2a-2f1d-4c82-f1d6-916753e30bf2"
      },
      "execution_count": 9,
      "outputs": [
        {
          "output_type": "stream",
          "name": "stdout",
          "text": [
            "\u001b[2K   \u001b[90m━━━━━━━━━━━━━━━━━━━━━━━━━━━━━━━━━━━━━━━━\u001b[0m \u001b[32m68.1/68.1 MB\u001b[0m \u001b[31m7.1 MB/s\u001b[0m eta \u001b[36m0:00:00\u001b[0m\n",
            "\u001b[2K   \u001b[90m━━━━━━━━━━━━━━━━━━━━━━━━━━━━━━━━━━━━━━━━\u001b[0m \u001b[32m1.3/1.3 MB\u001b[0m \u001b[31m19.4 MB/s\u001b[0m eta \u001b[36m0:00:00\u001b[0m\n",
            "\u001b[2K   \u001b[90m━━━━━━━━━━━━━━━━━━━━━━━━━━━━━━━━━━━━━━━━\u001b[0m \u001b[32m1.1/1.1 MB\u001b[0m \u001b[31m19.2 MB/s\u001b[0m eta \u001b[36m0:00:00\u001b[0m\n",
            "\u001b[?25h"
          ]
        }
      ]
    },
    {
      "cell_type": "code",
      "source": [
        "import time\n",
        "import pandas as pd\n",
        "\n",
        "file_path = \"/content/pump_data/train.csv\"\n",
        "\n",
        "# Pandas\n",
        "start = time.time()\n",
        "df_pandas = pd.read_csv(file_path)\n",
        "end = time.time()\n",
        "print(f\"Pandas read time: {end - start:.2f} seconds\")\n"
      ],
      "metadata": {
        "colab": {
          "base_uri": "https://localhost:8080/"
        },
        "id": "R5J3QlW6aTe-",
        "outputId": "97b2e139-8805-4374-cd38-67984ef993c2"
      },
      "execution_count": 11,
      "outputs": [
        {
          "output_type": "stream",
          "name": "stdout",
          "text": [
            "Pandas read time: 1.53 seconds\n"
          ]
        }
      ]
    },
    {
      "cell_type": "code",
      "source": [
        "import dask.dataframe as dd\n",
        "\n",
        "start = time.time()\n",
        "df_dask = dd.read_csv(file_path)\n",
        "df_dask.head()  # triggers actual computation\n",
        "end = time.time()\n",
        "print(f\"Dask read + head time: {end - start:.2f} seconds\")"
      ],
      "metadata": {
        "colab": {
          "base_uri": "https://localhost:8080/"
        },
        "id": "WbR4wcmkaguS",
        "outputId": "1dd2a90f-e225-4a65-bec6-74c0ebfa7c7f"
      },
      "execution_count": 12,
      "outputs": [
        {
          "output_type": "stream",
          "name": "stdout",
          "text": [
            "Dask read + head time: 5.98 seconds\n"
          ]
        }
      ]
    },
    {
      "cell_type": "code",
      "source": [
        "import modin.pandas as mpd\n",
        "import ray\n",
        "ray.shutdown()\n",
        "ray.init(ignore_reinit_error=True)\n",
        "\n",
        "start = time.time()\n",
        "df_modin = mpd.read_csv(file_path)\n",
        "end = time.time()\n",
        "print(f\"Modin (Ray) read time: {end - start:.2f} seconds\")"
      ],
      "metadata": {
        "colab": {
          "base_uri": "https://localhost:8080/"
        },
        "id": "vSIScjOZawBX",
        "outputId": "315b0565-40e7-401b-c62d-211b85bf5631"
      },
      "execution_count": 13,
      "outputs": [
        {
          "output_type": "stream",
          "name": "stderr",
          "text": [
            "2025-04-12 19:13:01,947\tINFO worker.py:1852 -- Started a local Ray instance.\n"
          ]
        },
        {
          "output_type": "stream",
          "name": "stdout",
          "text": [
            "Modin (Ray) read time: 6.58 seconds\n"
          ]
        }
      ]
    },
    {
      "cell_type": "code",
      "source": [
        "# Example\n",
        "results = {\n",
        "    \"Library\": [\"Pandas\", \"Dask\", \"Modin (Ray)\"],\n",
        "    \"Read Time (seconds)\": [1.53, 5.98, 6.58]\n",
        "}\n",
        "\n",
        "summary_df = pd.DataFrame(results)\n",
        "summary_df\n"
      ],
      "metadata": {
        "colab": {
          "base_uri": "https://localhost:8080/",
          "height": 143
        },
        "id": "uadJUbJEbjdr",
        "outputId": "bd0204e3-fb9f-4367-d338-b308a6cb7450"
      },
      "execution_count": 14,
      "outputs": [
        {
          "output_type": "execute_result",
          "data": {
            "text/plain": [
              "       Library  Read Time (seconds)\n",
              "0       Pandas                 1.53\n",
              "1         Dask                 5.98\n",
              "2  Modin (Ray)                 6.58"
            ],
            "text/html": [
              "\n",
              "  <div id=\"df-22b885ff-fd95-4617-aa10-b031d3394f1a\" class=\"colab-df-container\">\n",
              "    <div>\n",
              "<style scoped>\n",
              "    .dataframe tbody tr th:only-of-type {\n",
              "        vertical-align: middle;\n",
              "    }\n",
              "\n",
              "    .dataframe tbody tr th {\n",
              "        vertical-align: top;\n",
              "    }\n",
              "\n",
              "    .dataframe thead th {\n",
              "        text-align: right;\n",
              "    }\n",
              "</style>\n",
              "<table border=\"1\" class=\"dataframe\">\n",
              "  <thead>\n",
              "    <tr style=\"text-align: right;\">\n",
              "      <th></th>\n",
              "      <th>Library</th>\n",
              "      <th>Read Time (seconds)</th>\n",
              "    </tr>\n",
              "  </thead>\n",
              "  <tbody>\n",
              "    <tr>\n",
              "      <th>0</th>\n",
              "      <td>Pandas</td>\n",
              "      <td>1.53</td>\n",
              "    </tr>\n",
              "    <tr>\n",
              "      <th>1</th>\n",
              "      <td>Dask</td>\n",
              "      <td>5.98</td>\n",
              "    </tr>\n",
              "    <tr>\n",
              "      <th>2</th>\n",
              "      <td>Modin (Ray)</td>\n",
              "      <td>6.58</td>\n",
              "    </tr>\n",
              "  </tbody>\n",
              "</table>\n",
              "</div>\n",
              "    <div class=\"colab-df-buttons\">\n",
              "\n",
              "  <div class=\"colab-df-container\">\n",
              "    <button class=\"colab-df-convert\" onclick=\"convertToInteractive('df-22b885ff-fd95-4617-aa10-b031d3394f1a')\"\n",
              "            title=\"Convert this dataframe to an interactive table.\"\n",
              "            style=\"display:none;\">\n",
              "\n",
              "  <svg xmlns=\"http://www.w3.org/2000/svg\" height=\"24px\" viewBox=\"0 -960 960 960\">\n",
              "    <path d=\"M120-120v-720h720v720H120Zm60-500h600v-160H180v160Zm220 220h160v-160H400v160Zm0 220h160v-160H400v160ZM180-400h160v-160H180v160Zm440 0h160v-160H620v160ZM180-180h160v-160H180v160Zm440 0h160v-160H620v160Z\"/>\n",
              "  </svg>\n",
              "    </button>\n",
              "\n",
              "  <style>\n",
              "    .colab-df-container {\n",
              "      display:flex;\n",
              "      gap: 12px;\n",
              "    }\n",
              "\n",
              "    .colab-df-convert {\n",
              "      background-color: #E8F0FE;\n",
              "      border: none;\n",
              "      border-radius: 50%;\n",
              "      cursor: pointer;\n",
              "      display: none;\n",
              "      fill: #1967D2;\n",
              "      height: 32px;\n",
              "      padding: 0 0 0 0;\n",
              "      width: 32px;\n",
              "    }\n",
              "\n",
              "    .colab-df-convert:hover {\n",
              "      background-color: #E2EBFA;\n",
              "      box-shadow: 0px 1px 2px rgba(60, 64, 67, 0.3), 0px 1px 3px 1px rgba(60, 64, 67, 0.15);\n",
              "      fill: #174EA6;\n",
              "    }\n",
              "\n",
              "    .colab-df-buttons div {\n",
              "      margin-bottom: 4px;\n",
              "    }\n",
              "\n",
              "    [theme=dark] .colab-df-convert {\n",
              "      background-color: #3B4455;\n",
              "      fill: #D2E3FC;\n",
              "    }\n",
              "\n",
              "    [theme=dark] .colab-df-convert:hover {\n",
              "      background-color: #434B5C;\n",
              "      box-shadow: 0px 1px 3px 1px rgba(0, 0, 0, 0.15);\n",
              "      filter: drop-shadow(0px 1px 2px rgba(0, 0, 0, 0.3));\n",
              "      fill: #FFFFFF;\n",
              "    }\n",
              "  </style>\n",
              "\n",
              "    <script>\n",
              "      const buttonEl =\n",
              "        document.querySelector('#df-22b885ff-fd95-4617-aa10-b031d3394f1a button.colab-df-convert');\n",
              "      buttonEl.style.display =\n",
              "        google.colab.kernel.accessAllowed ? 'block' : 'none';\n",
              "\n",
              "      async function convertToInteractive(key) {\n",
              "        const element = document.querySelector('#df-22b885ff-fd95-4617-aa10-b031d3394f1a');\n",
              "        const dataTable =\n",
              "          await google.colab.kernel.invokeFunction('convertToInteractive',\n",
              "                                                    [key], {});\n",
              "        if (!dataTable) return;\n",
              "\n",
              "        const docLinkHtml = 'Like what you see? Visit the ' +\n",
              "          '<a target=\"_blank\" href=https://colab.research.google.com/notebooks/data_table.ipynb>data table notebook</a>'\n",
              "          + ' to learn more about interactive tables.';\n",
              "        element.innerHTML = '';\n",
              "        dataTable['output_type'] = 'display_data';\n",
              "        await google.colab.output.renderOutput(dataTable, element);\n",
              "        const docLink = document.createElement('div');\n",
              "        docLink.innerHTML = docLinkHtml;\n",
              "        element.appendChild(docLink);\n",
              "      }\n",
              "    </script>\n",
              "  </div>\n",
              "\n",
              "\n",
              "<div id=\"df-42839ec9-0040-46ae-aa4d-9b586959b6a3\">\n",
              "  <button class=\"colab-df-quickchart\" onclick=\"quickchart('df-42839ec9-0040-46ae-aa4d-9b586959b6a3')\"\n",
              "            title=\"Suggest charts\"\n",
              "            style=\"display:none;\">\n",
              "\n",
              "<svg xmlns=\"http://www.w3.org/2000/svg\" height=\"24px\"viewBox=\"0 0 24 24\"\n",
              "     width=\"24px\">\n",
              "    <g>\n",
              "        <path d=\"M19 3H5c-1.1 0-2 .9-2 2v14c0 1.1.9 2 2 2h14c1.1 0 2-.9 2-2V5c0-1.1-.9-2-2-2zM9 17H7v-7h2v7zm4 0h-2V7h2v10zm4 0h-2v-4h2v4z\"/>\n",
              "    </g>\n",
              "</svg>\n",
              "  </button>\n",
              "\n",
              "<style>\n",
              "  .colab-df-quickchart {\n",
              "      --bg-color: #E8F0FE;\n",
              "      --fill-color: #1967D2;\n",
              "      --hover-bg-color: #E2EBFA;\n",
              "      --hover-fill-color: #174EA6;\n",
              "      --disabled-fill-color: #AAA;\n",
              "      --disabled-bg-color: #DDD;\n",
              "  }\n",
              "\n",
              "  [theme=dark] .colab-df-quickchart {\n",
              "      --bg-color: #3B4455;\n",
              "      --fill-color: #D2E3FC;\n",
              "      --hover-bg-color: #434B5C;\n",
              "      --hover-fill-color: #FFFFFF;\n",
              "      --disabled-bg-color: #3B4455;\n",
              "      --disabled-fill-color: #666;\n",
              "  }\n",
              "\n",
              "  .colab-df-quickchart {\n",
              "    background-color: var(--bg-color);\n",
              "    border: none;\n",
              "    border-radius: 50%;\n",
              "    cursor: pointer;\n",
              "    display: none;\n",
              "    fill: var(--fill-color);\n",
              "    height: 32px;\n",
              "    padding: 0;\n",
              "    width: 32px;\n",
              "  }\n",
              "\n",
              "  .colab-df-quickchart:hover {\n",
              "    background-color: var(--hover-bg-color);\n",
              "    box-shadow: 0 1px 2px rgba(60, 64, 67, 0.3), 0 1px 3px 1px rgba(60, 64, 67, 0.15);\n",
              "    fill: var(--button-hover-fill-color);\n",
              "  }\n",
              "\n",
              "  .colab-df-quickchart-complete:disabled,\n",
              "  .colab-df-quickchart-complete:disabled:hover {\n",
              "    background-color: var(--disabled-bg-color);\n",
              "    fill: var(--disabled-fill-color);\n",
              "    box-shadow: none;\n",
              "  }\n",
              "\n",
              "  .colab-df-spinner {\n",
              "    border: 2px solid var(--fill-color);\n",
              "    border-color: transparent;\n",
              "    border-bottom-color: var(--fill-color);\n",
              "    animation:\n",
              "      spin 1s steps(1) infinite;\n",
              "  }\n",
              "\n",
              "  @keyframes spin {\n",
              "    0% {\n",
              "      border-color: transparent;\n",
              "      border-bottom-color: var(--fill-color);\n",
              "      border-left-color: var(--fill-color);\n",
              "    }\n",
              "    20% {\n",
              "      border-color: transparent;\n",
              "      border-left-color: var(--fill-color);\n",
              "      border-top-color: var(--fill-color);\n",
              "    }\n",
              "    30% {\n",
              "      border-color: transparent;\n",
              "      border-left-color: var(--fill-color);\n",
              "      border-top-color: var(--fill-color);\n",
              "      border-right-color: var(--fill-color);\n",
              "    }\n",
              "    40% {\n",
              "      border-color: transparent;\n",
              "      border-right-color: var(--fill-color);\n",
              "      border-top-color: var(--fill-color);\n",
              "    }\n",
              "    60% {\n",
              "      border-color: transparent;\n",
              "      border-right-color: var(--fill-color);\n",
              "    }\n",
              "    80% {\n",
              "      border-color: transparent;\n",
              "      border-right-color: var(--fill-color);\n",
              "      border-bottom-color: var(--fill-color);\n",
              "    }\n",
              "    90% {\n",
              "      border-color: transparent;\n",
              "      border-bottom-color: var(--fill-color);\n",
              "    }\n",
              "  }\n",
              "</style>\n",
              "\n",
              "  <script>\n",
              "    async function quickchart(key) {\n",
              "      const quickchartButtonEl =\n",
              "        document.querySelector('#' + key + ' button');\n",
              "      quickchartButtonEl.disabled = true;  // To prevent multiple clicks.\n",
              "      quickchartButtonEl.classList.add('colab-df-spinner');\n",
              "      try {\n",
              "        const charts = await google.colab.kernel.invokeFunction(\n",
              "            'suggestCharts', [key], {});\n",
              "      } catch (error) {\n",
              "        console.error('Error during call to suggestCharts:', error);\n",
              "      }\n",
              "      quickchartButtonEl.classList.remove('colab-df-spinner');\n",
              "      quickchartButtonEl.classList.add('colab-df-quickchart-complete');\n",
              "    }\n",
              "    (() => {\n",
              "      let quickchartButtonEl =\n",
              "        document.querySelector('#df-42839ec9-0040-46ae-aa4d-9b586959b6a3 button');\n",
              "      quickchartButtonEl.style.display =\n",
              "        google.colab.kernel.accessAllowed ? 'block' : 'none';\n",
              "    })();\n",
              "  </script>\n",
              "</div>\n",
              "\n",
              "  <div id=\"id_ce579cfa-3592-4f10-b33a-f667a46c110c\">\n",
              "    <style>\n",
              "      .colab-df-generate {\n",
              "        background-color: #E8F0FE;\n",
              "        border: none;\n",
              "        border-radius: 50%;\n",
              "        cursor: pointer;\n",
              "        display: none;\n",
              "        fill: #1967D2;\n",
              "        height: 32px;\n",
              "        padding: 0 0 0 0;\n",
              "        width: 32px;\n",
              "      }\n",
              "\n",
              "      .colab-df-generate:hover {\n",
              "        background-color: #E2EBFA;\n",
              "        box-shadow: 0px 1px 2px rgba(60, 64, 67, 0.3), 0px 1px 3px 1px rgba(60, 64, 67, 0.15);\n",
              "        fill: #174EA6;\n",
              "      }\n",
              "\n",
              "      [theme=dark] .colab-df-generate {\n",
              "        background-color: #3B4455;\n",
              "        fill: #D2E3FC;\n",
              "      }\n",
              "\n",
              "      [theme=dark] .colab-df-generate:hover {\n",
              "        background-color: #434B5C;\n",
              "        box-shadow: 0px 1px 3px 1px rgba(0, 0, 0, 0.15);\n",
              "        filter: drop-shadow(0px 1px 2px rgba(0, 0, 0, 0.3));\n",
              "        fill: #FFFFFF;\n",
              "      }\n",
              "    </style>\n",
              "    <button class=\"colab-df-generate\" onclick=\"generateWithVariable('summary_df')\"\n",
              "            title=\"Generate code using this dataframe.\"\n",
              "            style=\"display:none;\">\n",
              "\n",
              "  <svg xmlns=\"http://www.w3.org/2000/svg\" height=\"24px\"viewBox=\"0 0 24 24\"\n",
              "       width=\"24px\">\n",
              "    <path d=\"M7,19H8.4L18.45,9,17,7.55,7,17.6ZM5,21V16.75L18.45,3.32a2,2,0,0,1,2.83,0l1.4,1.43a1.91,1.91,0,0,1,.58,1.4,1.91,1.91,0,0,1-.58,1.4L9.25,21ZM18.45,9,17,7.55Zm-12,3A5.31,5.31,0,0,0,4.9,8.1,5.31,5.31,0,0,0,1,6.5,5.31,5.31,0,0,0,4.9,4.9,5.31,5.31,0,0,0,6.5,1,5.31,5.31,0,0,0,8.1,4.9,5.31,5.31,0,0,0,12,6.5,5.46,5.46,0,0,0,6.5,12Z\"/>\n",
              "  </svg>\n",
              "    </button>\n",
              "    <script>\n",
              "      (() => {\n",
              "      const buttonEl =\n",
              "        document.querySelector('#id_ce579cfa-3592-4f10-b33a-f667a46c110c button.colab-df-generate');\n",
              "      buttonEl.style.display =\n",
              "        google.colab.kernel.accessAllowed ? 'block' : 'none';\n",
              "\n",
              "      buttonEl.onclick = () => {\n",
              "        google.colab.notebook.generateWithVariable('summary_df');\n",
              "      }\n",
              "      })();\n",
              "    </script>\n",
              "  </div>\n",
              "\n",
              "    </div>\n",
              "  </div>\n"
            ],
            "application/vnd.google.colaboratory.intrinsic+json": {
              "type": "dataframe",
              "variable_name": "summary_df",
              "summary": "{\n  \"name\": \"summary_df\",\n  \"rows\": 3,\n  \"fields\": [\n    {\n      \"column\": \"Library\",\n      \"properties\": {\n        \"dtype\": \"string\",\n        \"num_unique_values\": 3,\n        \"samples\": [\n          \"Pandas\",\n          \"Dask\",\n          \"Modin (Ray)\"\n        ],\n        \"semantic_type\": \"\",\n        \"description\": \"\"\n      }\n    },\n    {\n      \"column\": \"Read Time (seconds)\",\n      \"properties\": {\n        \"dtype\": \"number\",\n        \"std\": 2.7587738822406838,\n        \"min\": 1.53,\n        \"max\": 6.58,\n        \"num_unique_values\": 3,\n        \"samples\": [\n          1.53,\n          5.98,\n          6.58\n        ],\n        \"semantic_type\": \"\",\n        \"description\": \"\"\n      }\n    }\n  ]\n}"
            }
          },
          "metadata": {},
          "execution_count": 14
        }
      ]
    },
    {
      "cell_type": "code",
      "source": [
        "import testutility as util  # Assumes testutility.py is already created"
      ],
      "metadata": {
        "id": "bKhGT4hvcP-8"
      },
      "execution_count": 15,
      "outputs": []
    },
    {
      "cell_type": "code",
      "source": [
        "print(\"Original column names:\")\n",
        "print(list(df_pandas.columns))  # Replace with df_dask.columns or df_modin.columns if needed"
      ],
      "metadata": {
        "colab": {
          "base_uri": "https://localhost:8080/"
        },
        "id": "jFBM8odCcYNh",
        "outputId": "03bbd91e-b79c-42d1-b1b0-167a41625b47"
      },
      "execution_count": 16,
      "outputs": [
        {
          "output_type": "stream",
          "name": "stdout",
          "text": [
            "Original column names:\n",
            "['mint', 'slot_min', 'slot_graduated', 'has_graduated']\n"
          ]
        }
      ]
    },
    {
      "cell_type": "code",
      "source": [
        "# Clean column names using the utility function\n",
        "cleaned_columns = util.clean_column_names(df_pandas.columns)\n",
        "\n",
        "print(\"\\nCleaned column names:\")\n",
        "print(cleaned_columns)"
      ],
      "metadata": {
        "colab": {
          "base_uri": "https://localhost:8080/"
        },
        "id": "QMX092gUciVy",
        "outputId": "9317b2c3-aa8e-439a-8823-21d6d13e91e5"
      },
      "execution_count": 17,
      "outputs": [
        {
          "output_type": "stream",
          "name": "stdout",
          "text": [
            "\n",
            "Cleaned column names:\n",
            "['mint', 'slot_min', 'slot_graduated', 'has_graduated']\n"
          ]
        }
      ]
    },
    {
      "cell_type": "code",
      "source": [
        "# Update DataFrame with cleaned column names\n",
        "df_pandas.columns = cleaned_columns"
      ],
      "metadata": {
        "id": "eYUz99wvd5cf"
      },
      "execution_count": 18,
      "outputs": []
    },
    {
      "cell_type": "code",
      "source": [
        "!pip install pyyaml --quiet"
      ],
      "metadata": {
        "id": "8pa9ilcEeKUZ"
      },
      "execution_count": 19,
      "outputs": []
    },
    {
      "cell_type": "code",
      "source": [
        "import yaml\n",
        "\n",
        "# Build the config dictionary\n",
        "config_data = {\n",
        "    'file_type': 'csv',\n",
        "    'dataset_name': 'train_data',\n",
        "    'inbound_delimiter': ',',\n",
        "    'output_delimiter': '|',\n",
        "    'columns': list(df_pandas.columns)\n",
        "}"
      ],
      "metadata": {
        "id": "CQlMhYNMeRhK"
      },
      "execution_count": 20,
      "outputs": []
    },
    {
      "cell_type": "code",
      "source": [
        "# Save the config dictionary to a YAML file\n",
        "with open(\"file.yaml\", \"w\") as file:\n",
        "    yaml.dump(config_data, file)\n",
        "\n",
        "print(\"YAML config file 'file.yaml' created successfully.\")"
      ],
      "metadata": {
        "colab": {
          "base_uri": "https://localhost:8080/"
        },
        "id": "lO0AAwmxeWBy",
        "outputId": "c45ba5d1-ae2e-4a0b-ea2c-97d13ff25140"
      },
      "execution_count": 21,
      "outputs": [
        {
          "output_type": "stream",
          "name": "stdout",
          "text": [
            "YAML config file 'file.yaml' created successfully.\n"
          ]
        }
      ]
    },
    {
      "cell_type": "code",
      "source": [
        "# Open and display the YAML file contents\n",
        "with open(\"file.yaml\", \"r\") as file:\n",
        "    yaml_contents = file.read()\n",
        "\n",
        "print(yaml_contents)"
      ],
      "metadata": {
        "colab": {
          "base_uri": "https://localhost:8080/"
        },
        "id": "IPFaXCUmfO1W",
        "outputId": "931c7939-9683-4d33-b0e5-9d4e57f44009"
      },
      "execution_count": 22,
      "outputs": [
        {
          "output_type": "stream",
          "name": "stdout",
          "text": [
            "columns:\n",
            "- mint\n",
            "- slot_min\n",
            "- slot_graduated\n",
            "- has_graduated\n",
            "dataset_name: train_data\n",
            "file_type: csv\n",
            "inbound_delimiter: ','\n",
            "output_delimiter: '|'\n",
            "\n"
          ]
        }
      ]
    },
    {
      "cell_type": "code",
      "source": [
        "# Load YAML into a Python dictionary\n",
        "with open(\"file.yaml\", \"r\") as file:\n",
        "    config_loaded = yaml.safe_load(file)\n",
        "\n",
        "print(config_loaded)"
      ],
      "metadata": {
        "colab": {
          "base_uri": "https://localhost:8080/"
        },
        "id": "fZJ1R8nCfYeN",
        "outputId": "eaf5482c-3183-4596-b406-54de7755fcdd"
      },
      "execution_count": 23,
      "outputs": [
        {
          "output_type": "stream",
          "name": "stdout",
          "text": [
            "{'columns': ['mint', 'slot_min', 'slot_graduated', 'has_graduated'], 'dataset_name': 'train_data', 'file_type': 'csv', 'inbound_delimiter': ',', 'output_delimiter': '|'}\n"
          ]
        }
      ]
    },
    {
      "cell_type": "code",
      "source": [
        "# Run validation using the utility function\n",
        "is_valid = util.col_header_val(config_loaded['columns'], list(df_pandas.columns))\n",
        "\n",
        "# Print result\n",
        "if is_valid:\n",
        "    print(\"Column names validation PASSED.\")\n",
        "else:\n",
        "    print(\"Column names validation FAILED.\")"
      ],
      "metadata": {
        "colab": {
          "base_uri": "https://localhost:8080/"
        },
        "id": "20DHxFYWfop1",
        "outputId": "be60e7a9-fa3b-4914-c6a0-7d2135f9e6d9"
      },
      "execution_count": 24,
      "outputs": [
        {
          "output_type": "stream",
          "name": "stdout",
          "text": [
            "Column names validation PASSED.\n"
          ]
        }
      ]
    },
    {
      "cell_type": "code",
      "source": [
        "# Save DataFrame as a pipe-delimited gzip-compressed file\n",
        "df_pandas.to_csv(\"train_data_output.csv.gz\", sep='|', index=False, compression='gzip')\n",
        "\n",
        "print(\"Data saved successfully as 'train_data_output.csv.gz'\")"
      ],
      "metadata": {
        "colab": {
          "base_uri": "https://localhost:8080/"
        },
        "id": "Yg9heZFzf-s1",
        "outputId": "ecfac689-a76b-4515-d2ad-07cc4f5b772a"
      },
      "execution_count": 25,
      "outputs": [
        {
          "output_type": "stream",
          "name": "stdout",
          "text": [
            "Data saved successfully as 'train_data_output.csv.gz'\n"
          ]
        }
      ]
    },
    {
      "cell_type": "code",
      "source": [
        "import os\n",
        "\n",
        "# Summary of DataFrame\n",
        "num_rows, num_cols = df_pandas.shape\n",
        "print(f\"Row count: {num_rows}\")\n",
        "print(f\"Column count: {num_cols}\")\n",
        "\n",
        "# Get file size of compressed output\n",
        "file_path = \"train_data_output.csv.gz\"\n",
        "file_size_bytes = os.path.getsize(file_path)\n",
        "file_size_mb = file_size_bytes / (1024 * 1024)\n",
        "print(f\"Compressed file size: {file_size_mb:.2f} MB\")\n",
        "\n",
        "# Preview output\n",
        "import pandas as pd\n",
        "df_output = pd.read_csv(file_path, sep='|', compression='gzip')\n",
        "print(\"\\nPreview of compressed output:\")\n",
        "print(df_output.head())"
      ],
      "metadata": {
        "colab": {
          "base_uri": "https://localhost:8080/"
        },
        "id": "m9wfJDXAgjIN",
        "outputId": "9f9742b5-863e-458e-ee5f-ec8a14b05ddc"
      },
      "execution_count": 26,
      "outputs": [
        {
          "output_type": "stream",
          "name": "stdout",
          "text": [
            "Row count: 827250\n",
            "Column count: 4\n",
            "Compressed file size: 27.15 MB\n",
            "\n",
            "Preview of compressed output:\n",
            "                                           mint   slot_min  slot_graduated  \\\n",
            "0   Ab2voNJxp9xM2sdoF6JRJV8dtZ6hGm8yMSt3xAMpump  317876496             NaN   \n",
            "1  BmTDA5HqcemLkEgpyK25sDhbvk652CTXjdWEa8fLpump  317876496             NaN   \n",
            "2  FZ8wX1RAwV72gniwc9quiZSXHnrECQwoCxAXCWRipump  317876496             NaN   \n",
            "3  4FJwryCAMMePNeWw9LTBXXfXABdkKcAxkTT6h9pdpump  317876500             NaN   \n",
            "4  DeXchZLMzFm9nfvkfTKiXvBWWEpGMF6VDzvbMB6mpump  317876500             NaN   \n",
            "\n",
            "   has_graduated  \n",
            "0          False  \n",
            "1          False  \n",
            "2          False  \n",
            "3          False  \n",
            "4          False  \n"
          ]
        }
      ]
    },
    {
      "cell_type": "code",
      "source": [
        "df_pandas['slot_graduated'].isna().sum()"
      ],
      "metadata": {
        "colab": {
          "base_uri": "https://localhost:8080/"
        },
        "id": "bY6HosijhReZ",
        "outputId": "41a11b75-8035-4c4f-c98a-22c46a554cdf"
      },
      "execution_count": 27,
      "outputs": [
        {
          "output_type": "execute_result",
          "data": {
            "text/plain": [
              "np.int64(819409)"
            ]
          },
          "metadata": {},
          "execution_count": 27
        }
      ]
    },
    {
      "cell_type": "code",
      "source": [
        "df_pandas['slot_graduated'].isna().mean() * 100  # as percentage"
      ],
      "metadata": {
        "colab": {
          "base_uri": "https://localhost:8080/"
        },
        "id": "4QYXGflFhXr7",
        "outputId": "c511dcb1-3e5a-480f-da6e-4e586b706a63"
      },
      "execution_count": 28,
      "outputs": [
        {
          "output_type": "execute_result",
          "data": {
            "text/plain": [
              "np.float64(99.05216077364763)"
            ]
          },
          "metadata": {},
          "execution_count": 28
        }
      ]
    },
    {
      "cell_type": "markdown",
      "source": [
        "# Note:\n",
        "# The 'slot_graduated' column contains ~99% missing values.\n",
        "# However, given the dataset context (\"Graduation February 2025\"), this is expected.\n",
        "# Most entries have not yet graduated, and this field likely captures future status updates.\n",
        "\n",
        "#Overall this was a dataset from Kaggle titled \"SSS- Pump Fun Tokens Graduation 2025\" which was downloaded as \"archive.zip\" and inside was csv files split into multiple chunks with a train.csv file and others. Overall, this file was 2.94GB."
      ],
      "metadata": {
        "id": "Nj6951njiEin"
      }
    }
  ]
}