{
 "cells": [
  {
   "cell_type": "code",
   "execution_count": 1,
   "id": "2d4d9663-d4a4-4416-9317-1f6d4091a6bd",
   "metadata": {
    "scrolled": true
   },
   "outputs": [
    {
     "name": "stdout",
     "output_type": "stream",
     "text": [
      "Cab Data\n"
     ]
    },
    {
     "data": {
      "text/html": [
       "<div>\n",
       "<style scoped>\n",
       "    .dataframe tbody tr th:only-of-type {\n",
       "        vertical-align: middle;\n",
       "    }\n",
       "\n",
       "    .dataframe tbody tr th {\n",
       "        vertical-align: top;\n",
       "    }\n",
       "\n",
       "    .dataframe thead th {\n",
       "        text-align: right;\n",
       "    }\n",
       "</style>\n",
       "<table border=\"1\" class=\"dataframe\">\n",
       "  <thead>\n",
       "    <tr style=\"text-align: right;\">\n",
       "      <th></th>\n",
       "      <th>Transaction ID</th>\n",
       "      <th>Date of Travel</th>\n",
       "      <th>Company</th>\n",
       "      <th>City</th>\n",
       "      <th>KM Travelled</th>\n",
       "      <th>Price Charged</th>\n",
       "      <th>Cost of Trip</th>\n",
       "    </tr>\n",
       "  </thead>\n",
       "  <tbody>\n",
       "    <tr>\n",
       "      <th>0</th>\n",
       "      <td>10000011</td>\n",
       "      <td>2016-01-08</td>\n",
       "      <td>Pink Cab</td>\n",
       "      <td>ATLANTA GA</td>\n",
       "      <td>30.45</td>\n",
       "      <td>370.95</td>\n",
       "      <td>313.635</td>\n",
       "    </tr>\n",
       "    <tr>\n",
       "      <th>1</th>\n",
       "      <td>10000012</td>\n",
       "      <td>2016-01-06</td>\n",
       "      <td>Pink Cab</td>\n",
       "      <td>ATLANTA GA</td>\n",
       "      <td>28.62</td>\n",
       "      <td>358.52</td>\n",
       "      <td>334.854</td>\n",
       "    </tr>\n",
       "    <tr>\n",
       "      <th>2</th>\n",
       "      <td>10000013</td>\n",
       "      <td>2016-01-02</td>\n",
       "      <td>Pink Cab</td>\n",
       "      <td>ATLANTA GA</td>\n",
       "      <td>9.04</td>\n",
       "      <td>125.20</td>\n",
       "      <td>97.632</td>\n",
       "    </tr>\n",
       "    <tr>\n",
       "      <th>3</th>\n",
       "      <td>10000014</td>\n",
       "      <td>2016-01-07</td>\n",
       "      <td>Pink Cab</td>\n",
       "      <td>ATLANTA GA</td>\n",
       "      <td>33.17</td>\n",
       "      <td>377.40</td>\n",
       "      <td>351.602</td>\n",
       "    </tr>\n",
       "    <tr>\n",
       "      <th>4</th>\n",
       "      <td>10000015</td>\n",
       "      <td>2016-01-03</td>\n",
       "      <td>Pink Cab</td>\n",
       "      <td>ATLANTA GA</td>\n",
       "      <td>8.73</td>\n",
       "      <td>114.62</td>\n",
       "      <td>97.776</td>\n",
       "    </tr>\n",
       "  </tbody>\n",
       "</table>\n",
       "</div>"
      ],
      "text/plain": [
       "   Transaction ID Date of Travel   Company        City  KM Travelled  \\\n",
       "0        10000011     2016-01-08  Pink Cab  ATLANTA GA         30.45   \n",
       "1        10000012     2016-01-06  Pink Cab  ATLANTA GA         28.62   \n",
       "2        10000013     2016-01-02  Pink Cab  ATLANTA GA          9.04   \n",
       "3        10000014     2016-01-07  Pink Cab  ATLANTA GA         33.17   \n",
       "4        10000015     2016-01-03  Pink Cab  ATLANTA GA          8.73   \n",
       "\n",
       "   Price Charged  Cost of Trip  \n",
       "0         370.95       313.635  \n",
       "1         358.52       334.854  \n",
       "2         125.20        97.632  \n",
       "3         377.40       351.602  \n",
       "4         114.62        97.776  "
      ]
     },
     "metadata": {},
     "output_type": "display_data"
    },
    {
     "name": "stdout",
     "output_type": "stream",
     "text": [
      "Customer Data\n"
     ]
    },
    {
     "data": {
      "text/html": [
       "<div>\n",
       "<style scoped>\n",
       "    .dataframe tbody tr th:only-of-type {\n",
       "        vertical-align: middle;\n",
       "    }\n",
       "\n",
       "    .dataframe tbody tr th {\n",
       "        vertical-align: top;\n",
       "    }\n",
       "\n",
       "    .dataframe thead th {\n",
       "        text-align: right;\n",
       "    }\n",
       "</style>\n",
       "<table border=\"1\" class=\"dataframe\">\n",
       "  <thead>\n",
       "    <tr style=\"text-align: right;\">\n",
       "      <th></th>\n",
       "      <th>Customer ID</th>\n",
       "      <th>Gender</th>\n",
       "      <th>Age</th>\n",
       "      <th>Income (USD/Month)</th>\n",
       "    </tr>\n",
       "  </thead>\n",
       "  <tbody>\n",
       "    <tr>\n",
       "      <th>0</th>\n",
       "      <td>29290</td>\n",
       "      <td>Male</td>\n",
       "      <td>28</td>\n",
       "      <td>10813</td>\n",
       "    </tr>\n",
       "    <tr>\n",
       "      <th>1</th>\n",
       "      <td>27703</td>\n",
       "      <td>Male</td>\n",
       "      <td>27</td>\n",
       "      <td>9237</td>\n",
       "    </tr>\n",
       "    <tr>\n",
       "      <th>2</th>\n",
       "      <td>28712</td>\n",
       "      <td>Male</td>\n",
       "      <td>53</td>\n",
       "      <td>11242</td>\n",
       "    </tr>\n",
       "    <tr>\n",
       "      <th>3</th>\n",
       "      <td>28020</td>\n",
       "      <td>Male</td>\n",
       "      <td>23</td>\n",
       "      <td>23327</td>\n",
       "    </tr>\n",
       "    <tr>\n",
       "      <th>4</th>\n",
       "      <td>27182</td>\n",
       "      <td>Male</td>\n",
       "      <td>33</td>\n",
       "      <td>8536</td>\n",
       "    </tr>\n",
       "  </tbody>\n",
       "</table>\n",
       "</div>"
      ],
      "text/plain": [
       "   Customer ID Gender  Age  Income (USD/Month)\n",
       "0        29290   Male   28               10813\n",
       "1        27703   Male   27                9237\n",
       "2        28712   Male   53               11242\n",
       "3        28020   Male   23               23327\n",
       "4        27182   Male   33                8536"
      ]
     },
     "metadata": {},
     "output_type": "display_data"
    },
    {
     "name": "stdout",
     "output_type": "stream",
     "text": [
      "Transaction ID\n"
     ]
    },
    {
     "data": {
      "text/html": [
       "<div>\n",
       "<style scoped>\n",
       "    .dataframe tbody tr th:only-of-type {\n",
       "        vertical-align: middle;\n",
       "    }\n",
       "\n",
       "    .dataframe tbody tr th {\n",
       "        vertical-align: top;\n",
       "    }\n",
       "\n",
       "    .dataframe thead th {\n",
       "        text-align: right;\n",
       "    }\n",
       "</style>\n",
       "<table border=\"1\" class=\"dataframe\">\n",
       "  <thead>\n",
       "    <tr style=\"text-align: right;\">\n",
       "      <th></th>\n",
       "      <th>Transaction ID</th>\n",
       "      <th>Customer ID</th>\n",
       "      <th>Payment_Mode</th>\n",
       "    </tr>\n",
       "  </thead>\n",
       "  <tbody>\n",
       "    <tr>\n",
       "      <th>0</th>\n",
       "      <td>10000011</td>\n",
       "      <td>29290</td>\n",
       "      <td>Card</td>\n",
       "    </tr>\n",
       "    <tr>\n",
       "      <th>1</th>\n",
       "      <td>10000012</td>\n",
       "      <td>27703</td>\n",
       "      <td>Card</td>\n",
       "    </tr>\n",
       "    <tr>\n",
       "      <th>2</th>\n",
       "      <td>10000013</td>\n",
       "      <td>28712</td>\n",
       "      <td>Cash</td>\n",
       "    </tr>\n",
       "    <tr>\n",
       "      <th>3</th>\n",
       "      <td>10000014</td>\n",
       "      <td>28020</td>\n",
       "      <td>Cash</td>\n",
       "    </tr>\n",
       "    <tr>\n",
       "      <th>4</th>\n",
       "      <td>10000015</td>\n",
       "      <td>27182</td>\n",
       "      <td>Card</td>\n",
       "    </tr>\n",
       "  </tbody>\n",
       "</table>\n",
       "</div>"
      ],
      "text/plain": [
       "   Transaction ID  Customer ID Payment_Mode\n",
       "0        10000011        29290         Card\n",
       "1        10000012        27703         Card\n",
       "2        10000013        28712         Cash\n",
       "3        10000014        28020         Cash\n",
       "4        10000015        27182         Card"
      ]
     },
     "metadata": {},
     "output_type": "display_data"
    },
    {
     "name": "stdout",
     "output_type": "stream",
     "text": [
      "City Data\n"
     ]
    },
    {
     "data": {
      "text/html": [
       "<div>\n",
       "<style scoped>\n",
       "    .dataframe tbody tr th:only-of-type {\n",
       "        vertical-align: middle;\n",
       "    }\n",
       "\n",
       "    .dataframe tbody tr th {\n",
       "        vertical-align: top;\n",
       "    }\n",
       "\n",
       "    .dataframe thead th {\n",
       "        text-align: right;\n",
       "    }\n",
       "</style>\n",
       "<table border=\"1\" class=\"dataframe\">\n",
       "  <thead>\n",
       "    <tr style=\"text-align: right;\">\n",
       "      <th></th>\n",
       "      <th>City</th>\n",
       "      <th>Population</th>\n",
       "      <th>Users</th>\n",
       "    </tr>\n",
       "  </thead>\n",
       "  <tbody>\n",
       "    <tr>\n",
       "      <th>0</th>\n",
       "      <td>NEW YORK NY</td>\n",
       "      <td>8,405,837</td>\n",
       "      <td>302,149</td>\n",
       "    </tr>\n",
       "    <tr>\n",
       "      <th>1</th>\n",
       "      <td>CHICAGO IL</td>\n",
       "      <td>1,955,130</td>\n",
       "      <td>164,468</td>\n",
       "    </tr>\n",
       "    <tr>\n",
       "      <th>2</th>\n",
       "      <td>LOS ANGELES CA</td>\n",
       "      <td>1,595,037</td>\n",
       "      <td>144,132</td>\n",
       "    </tr>\n",
       "    <tr>\n",
       "      <th>3</th>\n",
       "      <td>MIAMI FL</td>\n",
       "      <td>1,339,155</td>\n",
       "      <td>17,675</td>\n",
       "    </tr>\n",
       "    <tr>\n",
       "      <th>4</th>\n",
       "      <td>SILICON VALLEY</td>\n",
       "      <td>1,177,609</td>\n",
       "      <td>27,247</td>\n",
       "    </tr>\n",
       "  </tbody>\n",
       "</table>\n",
       "</div>"
      ],
      "text/plain": [
       "             City Population    Users\n",
       "0     NEW YORK NY  8,405,837  302,149\n",
       "1      CHICAGO IL  1,955,130  164,468\n",
       "2  LOS ANGELES CA  1,595,037  144,132\n",
       "3        MIAMI FL  1,339,155   17,675\n",
       "4  SILICON VALLEY  1,177,609   27,247"
      ]
     },
     "metadata": {},
     "output_type": "display_data"
    }
   ],
   "source": [
    "import pandas as pd\n",
    "\n",
    "#Loading the datasets\n",
    "cab_data = pd.read_csv(r\"C:\\Users\\katki\\Datasets\\Cab_Data.csv\")\n",
    "customer_data = pd.read_csv(r\"C:\\Users\\katki\\Datasets\\Customer_ID.csv\")\n",
    "transaction_data = pd.read_csv(r\"C:\\Users\\katki\\Datasets\\Transaction_ID.csv\")\n",
    "city_data = pd.read_csv(r\"C:\\Users\\katki\\Datasets\\City.csv\")\n",
    "\n",
    "import datetime #Correcting date format\n",
    "cab_data[\"Date of Travel\"] = pd.to_datetime(cab_data[\"Date of Travel\"], origin=\"1899-12-30\", unit=\"D\")\n",
    "\n",
    "#Previewing the first few rows of each dataset\n",
    "print(\"Cab Data\")\n",
    "display(cab_data.head())\n",
    "\n",
    "print(\"Customer Data\")\n",
    "display(customer_data.head())\n",
    "\n",
    "print(\"Transaction ID\")\n",
    "display(transaction_data.head())\n",
    "\n",
    "print(\"City Data\")\n",
    "display(city_data.head())\n"
   ]
  },
  {
   "cell_type": "code",
   "execution_count": 2,
   "id": "dfeb136c-0ca2-42be-832f-7b747411c420",
   "metadata": {},
   "outputs": [
    {
     "name": "stdout",
     "output_type": "stream",
     "text": [
      "C:\\Users\\katki\n"
     ]
    }
   ],
   "source": [
    "import os #Checking working directory\n",
    "print(os.getcwd())"
   ]
  },
  {
   "cell_type": "code",
   "execution_count": 3,
   "id": "40edbf33-aa79-4ad6-a988-d2e51408a3e9",
   "metadata": {},
   "outputs": [
    {
     "name": "stdout",
     "output_type": "stream",
     "text": [
      "\n",
      "Cab Data - Info\n",
      "<class 'pandas.core.frame.DataFrame'>\n",
      "RangeIndex: 359392 entries, 0 to 359391\n",
      "Data columns (total 7 columns):\n",
      " #   Column          Non-Null Count   Dtype         \n",
      "---  ------          --------------   -----         \n",
      " 0   Transaction ID  359392 non-null  int64         \n",
      " 1   Date of Travel  359392 non-null  datetime64[ns]\n",
      " 2   Company         359392 non-null  object        \n",
      " 3   City            359392 non-null  object        \n",
      " 4   KM Travelled    359392 non-null  float64       \n",
      " 5   Price Charged   359392 non-null  float64       \n",
      " 6   Cost of Trip    359392 non-null  float64       \n",
      "dtypes: datetime64[ns](1), float64(3), int64(1), object(2)\n",
      "memory usage: 19.2+ MB\n",
      "None\n",
      "\n",
      "Customer Data - Info\n",
      "<class 'pandas.core.frame.DataFrame'>\n",
      "RangeIndex: 49171 entries, 0 to 49170\n",
      "Data columns (total 4 columns):\n",
      " #   Column              Non-Null Count  Dtype \n",
      "---  ------              --------------  ----- \n",
      " 0   Customer ID         49171 non-null  int64 \n",
      " 1   Gender              49171 non-null  object\n",
      " 2   Age                 49171 non-null  int64 \n",
      " 3   Income (USD/Month)  49171 non-null  int64 \n",
      "dtypes: int64(3), object(1)\n",
      "memory usage: 1.5+ MB\n",
      "None\n",
      "\n",
      "Transaction Data - Info\n",
      "<class 'pandas.core.frame.DataFrame'>\n",
      "RangeIndex: 440098 entries, 0 to 440097\n",
      "Data columns (total 3 columns):\n",
      " #   Column          Non-Null Count   Dtype \n",
      "---  ------          --------------   ----- \n",
      " 0   Transaction ID  440098 non-null  int64 \n",
      " 1   Customer ID     440098 non-null  int64 \n",
      " 2   Payment_Mode    440098 non-null  object\n",
      "dtypes: int64(2), object(1)\n",
      "memory usage: 10.1+ MB\n",
      "None\n",
      "\n",
      "City Data - Info\n",
      "<class 'pandas.core.frame.DataFrame'>\n",
      "RangeIndex: 20 entries, 0 to 19\n",
      "Data columns (total 3 columns):\n",
      " #   Column      Non-Null Count  Dtype \n",
      "---  ------      --------------  ----- \n",
      " 0   City        20 non-null     object\n",
      " 1   Population  20 non-null     object\n",
      " 2   Users       20 non-null     object\n",
      "dtypes: object(3)\n",
      "memory usage: 612.0+ bytes\n",
      "None\n"
     ]
    }
   ],
   "source": [
    "#Checking column names and data types\n",
    "for df, name in zip([cab_data, customer_data, transaction_data, city_data],\n",
    "                    [\"Cab Data\", \"Customer Data\", \"Transaction Data\", \"City Data\"]):\n",
    "    print(f\"\\n{name} - Info\")\n",
    "    print(df.info())"
   ]
  },
  {
   "cell_type": "code",
   "execution_count": 4,
   "id": "7a85fb1b-a195-4b63-8b06-ba397a3b1936",
   "metadata": {},
   "outputs": [
    {
     "name": "stdout",
     "output_type": "stream",
     "text": [
      "\n",
      "Cab Data - Missing Values\n",
      "Transaction ID    0\n",
      "Date of Travel    0\n",
      "Company           0\n",
      "City              0\n",
      "KM Travelled      0\n",
      "Price Charged     0\n",
      "Cost of Trip      0\n",
      "dtype: int64\n",
      "\n",
      "Customer Data - Missing Values\n",
      "Customer ID           0\n",
      "Gender                0\n",
      "Age                   0\n",
      "Income (USD/Month)    0\n",
      "dtype: int64\n",
      "\n",
      "Transaction Data - Missing Values\n",
      "Transaction ID    0\n",
      "Customer ID       0\n",
      "Payment_Mode      0\n",
      "dtype: int64\n",
      "\n",
      "City Data - Missing Values\n",
      "City          0\n",
      "Population    0\n",
      "Users         0\n",
      "dtype: int64\n"
     ]
    }
   ],
   "source": [
    "#Checking for missing values\n",
    "for df, name in zip([cab_data, customer_data, transaction_data, city_data],\n",
    "                    [\"Cab Data\", \"Customer Data\", \"Transaction Data\", \"City Data\"]):\n",
    "    print(f\"\\n{name} - Missing Values\")\n",
    "    print(df.isnull().sum())"
   ]
  },
  {
   "cell_type": "code",
   "execution_count": 5,
   "id": "97f11412-e587-4816-b695-9a104925c0d1",
   "metadata": {},
   "outputs": [
    {
     "name": "stdout",
     "output_type": "stream",
     "text": [
      "\n",
      "Cab Data - Duplicate Rows: 0\n",
      "\n",
      "Customer Data - Duplicate Rows: 0\n",
      "\n",
      "Transaction Data - Duplicate Rows: 0\n",
      "\n",
      "City Data - Duplicate Rows: 0\n"
     ]
    }
   ],
   "source": [
    "#Checking for duplicates\n",
    "for df, name in zip([cab_data, customer_data, transaction_data, city_data],\n",
    "                    [\"Cab Data\", \"Customer Data\", \"Transaction Data\", \"City Data\"]):\n",
    "    print(f\"\\n{name} - Duplicate Rows: {df.duplicated().sum()}\")"
   ]
  },
  {
   "cell_type": "code",
   "execution_count": 6,
   "id": "b50eb0f0-8b7c-4edc-a2cf-4dda16148848",
   "metadata": {},
   "outputs": [],
   "source": [
    "#Dropping duplicates\n",
    "cab_data.drop_duplicates(inplace=True)\n",
    "customer_data.drop_duplicates(inplace=True)\n",
    "transaction_data.drop_duplicates(inplace=True)\n",
    "city_data.drop_duplicates(inplace=True)"
   ]
  },
  {
   "cell_type": "code",
   "execution_count": 7,
   "id": "78213ef3-6ebb-419e-a98c-c9959e4c0e21",
   "metadata": {},
   "outputs": [],
   "source": [
    "#Merging datasets to create a master data\n",
    "master_data = cab_data.merge(transaction_data, on=\"Transaction ID\") \\\n",
    "                      .merge(customer_data, on=\"Customer ID\") \\\n",
    "                      .merge(city_data, on=\"City\")                        "
   ]
  },
  {
   "cell_type": "code",
   "execution_count": 8,
   "id": "cf0f8a59-cc8e-4e0b-8f8d-d65b71ec0407",
   "metadata": {},
   "outputs": [
    {
     "name": "stdout",
     "output_type": "stream",
     "text": [
      "Master Data Preview\n"
     ]
    },
    {
     "data": {
      "text/html": [
       "<div>\n",
       "<style scoped>\n",
       "    .dataframe tbody tr th:only-of-type {\n",
       "        vertical-align: middle;\n",
       "    }\n",
       "\n",
       "    .dataframe tbody tr th {\n",
       "        vertical-align: top;\n",
       "    }\n",
       "\n",
       "    .dataframe thead th {\n",
       "        text-align: right;\n",
       "    }\n",
       "</style>\n",
       "<table border=\"1\" class=\"dataframe\">\n",
       "  <thead>\n",
       "    <tr style=\"text-align: right;\">\n",
       "      <th></th>\n",
       "      <th>Transaction ID</th>\n",
       "      <th>Date of Travel</th>\n",
       "      <th>Company</th>\n",
       "      <th>City</th>\n",
       "      <th>KM Travelled</th>\n",
       "      <th>Price Charged</th>\n",
       "      <th>Cost of Trip</th>\n",
       "      <th>Customer ID</th>\n",
       "      <th>Payment_Mode</th>\n",
       "      <th>Gender</th>\n",
       "      <th>Age</th>\n",
       "      <th>Income (USD/Month)</th>\n",
       "      <th>Population</th>\n",
       "      <th>Users</th>\n",
       "    </tr>\n",
       "  </thead>\n",
       "  <tbody>\n",
       "    <tr>\n",
       "      <th>0</th>\n",
       "      <td>10000011</td>\n",
       "      <td>2016-01-08</td>\n",
       "      <td>Pink Cab</td>\n",
       "      <td>ATLANTA GA</td>\n",
       "      <td>30.45</td>\n",
       "      <td>370.95</td>\n",
       "      <td>313.635</td>\n",
       "      <td>29290</td>\n",
       "      <td>Card</td>\n",
       "      <td>Male</td>\n",
       "      <td>28</td>\n",
       "      <td>10813</td>\n",
       "      <td>814,885</td>\n",
       "      <td>24,701</td>\n",
       "    </tr>\n",
       "    <tr>\n",
       "      <th>1</th>\n",
       "      <td>10000012</td>\n",
       "      <td>2016-01-06</td>\n",
       "      <td>Pink Cab</td>\n",
       "      <td>ATLANTA GA</td>\n",
       "      <td>28.62</td>\n",
       "      <td>358.52</td>\n",
       "      <td>334.854</td>\n",
       "      <td>27703</td>\n",
       "      <td>Card</td>\n",
       "      <td>Male</td>\n",
       "      <td>27</td>\n",
       "      <td>9237</td>\n",
       "      <td>814,885</td>\n",
       "      <td>24,701</td>\n",
       "    </tr>\n",
       "    <tr>\n",
       "      <th>2</th>\n",
       "      <td>10000013</td>\n",
       "      <td>2016-01-02</td>\n",
       "      <td>Pink Cab</td>\n",
       "      <td>ATLANTA GA</td>\n",
       "      <td>9.04</td>\n",
       "      <td>125.20</td>\n",
       "      <td>97.632</td>\n",
       "      <td>28712</td>\n",
       "      <td>Cash</td>\n",
       "      <td>Male</td>\n",
       "      <td>53</td>\n",
       "      <td>11242</td>\n",
       "      <td>814,885</td>\n",
       "      <td>24,701</td>\n",
       "    </tr>\n",
       "    <tr>\n",
       "      <th>3</th>\n",
       "      <td>10000014</td>\n",
       "      <td>2016-01-07</td>\n",
       "      <td>Pink Cab</td>\n",
       "      <td>ATLANTA GA</td>\n",
       "      <td>33.17</td>\n",
       "      <td>377.40</td>\n",
       "      <td>351.602</td>\n",
       "      <td>28020</td>\n",
       "      <td>Cash</td>\n",
       "      <td>Male</td>\n",
       "      <td>23</td>\n",
       "      <td>23327</td>\n",
       "      <td>814,885</td>\n",
       "      <td>24,701</td>\n",
       "    </tr>\n",
       "    <tr>\n",
       "      <th>4</th>\n",
       "      <td>10000015</td>\n",
       "      <td>2016-01-03</td>\n",
       "      <td>Pink Cab</td>\n",
       "      <td>ATLANTA GA</td>\n",
       "      <td>8.73</td>\n",
       "      <td>114.62</td>\n",
       "      <td>97.776</td>\n",
       "      <td>27182</td>\n",
       "      <td>Card</td>\n",
       "      <td>Male</td>\n",
       "      <td>33</td>\n",
       "      <td>8536</td>\n",
       "      <td>814,885</td>\n",
       "      <td>24,701</td>\n",
       "    </tr>\n",
       "  </tbody>\n",
       "</table>\n",
       "</div>"
      ],
      "text/plain": [
       "   Transaction ID Date of Travel   Company        City  KM Travelled  \\\n",
       "0        10000011     2016-01-08  Pink Cab  ATLANTA GA         30.45   \n",
       "1        10000012     2016-01-06  Pink Cab  ATLANTA GA         28.62   \n",
       "2        10000013     2016-01-02  Pink Cab  ATLANTA GA          9.04   \n",
       "3        10000014     2016-01-07  Pink Cab  ATLANTA GA         33.17   \n",
       "4        10000015     2016-01-03  Pink Cab  ATLANTA GA          8.73   \n",
       "\n",
       "   Price Charged  Cost of Trip  Customer ID Payment_Mode Gender  Age  \\\n",
       "0         370.95       313.635        29290         Card   Male   28   \n",
       "1         358.52       334.854        27703         Card   Male   27   \n",
       "2         125.20        97.632        28712         Cash   Male   53   \n",
       "3         377.40       351.602        28020         Cash   Male   23   \n",
       "4         114.62        97.776        27182         Card   Male   33   \n",
       "\n",
       "   Income (USD/Month) Population   Users  \n",
       "0               10813    814,885  24,701  \n",
       "1                9237    814,885  24,701  \n",
       "2               11242    814,885  24,701  \n",
       "3               23327    814,885  24,701  \n",
       "4                8536    814,885  24,701  "
      ]
     },
     "metadata": {},
     "output_type": "display_data"
    }
   ],
   "source": [
    "#Checking the new dataset\n",
    "print(\"Master Data Preview\")\n",
    "display(master_data.head())"
   ]
  },
  {
   "cell_type": "code",
   "execution_count": 9,
   "id": "c83d823c-cec9-4f4c-ba3b-3a14b0f4bc05",
   "metadata": {},
   "outputs": [
    {
     "name": "stdout",
     "output_type": "stream",
     "text": [
      "Defaulting to user installation because normal site-packages is not writeable\n",
      "Requirement already satisfied: matplotlib in c:\\users\\katki\\appdata\\local\\packages\\pythonsoftwarefoundation.python.3.13_qbz5n2kfra8p0\\localcache\\local-packages\\python313\\site-packages (3.10.1)\n",
      "Requirement already satisfied: contourpy>=1.0.1 in c:\\users\\katki\\appdata\\local\\packages\\pythonsoftwarefoundation.python.3.13_qbz5n2kfra8p0\\localcache\\local-packages\\python313\\site-packages (from matplotlib) (1.3.1)\n",
      "Requirement already satisfied: cycler>=0.10 in c:\\users\\katki\\appdata\\local\\packages\\pythonsoftwarefoundation.python.3.13_qbz5n2kfra8p0\\localcache\\local-packages\\python313\\site-packages (from matplotlib) (0.12.1)\n",
      "Requirement already satisfied: fonttools>=4.22.0 in c:\\users\\katki\\appdata\\local\\packages\\pythonsoftwarefoundation.python.3.13_qbz5n2kfra8p0\\localcache\\local-packages\\python313\\site-packages (from matplotlib) (4.56.0)\n",
      "Requirement already satisfied: kiwisolver>=1.3.1 in c:\\users\\katki\\appdata\\local\\packages\\pythonsoftwarefoundation.python.3.13_qbz5n2kfra8p0\\localcache\\local-packages\\python313\\site-packages (from matplotlib) (1.4.8)\n",
      "Requirement already satisfied: numpy>=1.23 in c:\\users\\katki\\appdata\\local\\packages\\pythonsoftwarefoundation.python.3.13_qbz5n2kfra8p0\\localcache\\local-packages\\python313\\site-packages (from matplotlib) (2.2.3)\n",
      "Requirement already satisfied: packaging>=20.0 in c:\\users\\katki\\appdata\\local\\packages\\pythonsoftwarefoundation.python.3.13_qbz5n2kfra8p0\\localcache\\local-packages\\python313\\site-packages (from matplotlib) (24.2)\n",
      "Requirement already satisfied: pillow>=8 in c:\\users\\katki\\appdata\\local\\packages\\pythonsoftwarefoundation.python.3.13_qbz5n2kfra8p0\\localcache\\local-packages\\python313\\site-packages (from matplotlib) (11.1.0)\n",
      "Requirement already satisfied: pyparsing>=2.3.1 in c:\\users\\katki\\appdata\\local\\packages\\pythonsoftwarefoundation.python.3.13_qbz5n2kfra8p0\\localcache\\local-packages\\python313\\site-packages (from matplotlib) (3.2.1)\n",
      "Requirement already satisfied: python-dateutil>=2.7 in c:\\users\\katki\\appdata\\local\\packages\\pythonsoftwarefoundation.python.3.13_qbz5n2kfra8p0\\localcache\\local-packages\\python313\\site-packages (from matplotlib) (2.9.0.post0)\n",
      "Requirement already satisfied: six>=1.5 in c:\\users\\katki\\appdata\\local\\packages\\pythonsoftwarefoundation.python.3.13_qbz5n2kfra8p0\\localcache\\local-packages\\python313\\site-packages (from python-dateutil>=2.7->matplotlib) (1.17.0)\n"
     ]
    }
   ],
   "source": [
    "!pip install matplotlib"
   ]
  },
  {
   "cell_type": "code",
   "execution_count": 10,
   "id": "fa51a1d0-885d-4224-994d-e21c5756e155",
   "metadata": {},
   "outputs": [],
   "source": [
    "import matplotlib.pyplot as plt"
   ]
  },
  {
   "cell_type": "code",
   "execution_count": 11,
   "id": "9906ecf4-3cfe-4433-bad4-2d65a380d3d9",
   "metadata": {},
   "outputs": [
    {
     "name": "stdout",
     "output_type": "stream",
     "text": [
      "Defaulting to user installation because normal site-packages is not writeable\n",
      "Requirement already satisfied: seaborn in c:\\users\\katki\\appdata\\local\\packages\\pythonsoftwarefoundation.python.3.13_qbz5n2kfra8p0\\localcache\\local-packages\\python313\\site-packages (0.13.2)\n",
      "Requirement already satisfied: numpy!=1.24.0,>=1.20 in c:\\users\\katki\\appdata\\local\\packages\\pythonsoftwarefoundation.python.3.13_qbz5n2kfra8p0\\localcache\\local-packages\\python313\\site-packages (from seaborn) (2.2.3)\n",
      "Requirement already satisfied: pandas>=1.2 in c:\\users\\katki\\appdata\\local\\packages\\pythonsoftwarefoundation.python.3.13_qbz5n2kfra8p0\\localcache\\local-packages\\python313\\site-packages (from seaborn) (2.2.3)\n",
      "Requirement already satisfied: matplotlib!=3.6.1,>=3.4 in c:\\users\\katki\\appdata\\local\\packages\\pythonsoftwarefoundation.python.3.13_qbz5n2kfra8p0\\localcache\\local-packages\\python313\\site-packages (from seaborn) (3.10.1)\n",
      "Requirement already satisfied: contourpy>=1.0.1 in c:\\users\\katki\\appdata\\local\\packages\\pythonsoftwarefoundation.python.3.13_qbz5n2kfra8p0\\localcache\\local-packages\\python313\\site-packages (from matplotlib!=3.6.1,>=3.4->seaborn) (1.3.1)\n",
      "Requirement already satisfied: cycler>=0.10 in c:\\users\\katki\\appdata\\local\\packages\\pythonsoftwarefoundation.python.3.13_qbz5n2kfra8p0\\localcache\\local-packages\\python313\\site-packages (from matplotlib!=3.6.1,>=3.4->seaborn) (0.12.1)\n",
      "Requirement already satisfied: fonttools>=4.22.0 in c:\\users\\katki\\appdata\\local\\packages\\pythonsoftwarefoundation.python.3.13_qbz5n2kfra8p0\\localcache\\local-packages\\python313\\site-packages (from matplotlib!=3.6.1,>=3.4->seaborn) (4.56.0)\n",
      "Requirement already satisfied: kiwisolver>=1.3.1 in c:\\users\\katki\\appdata\\local\\packages\\pythonsoftwarefoundation.python.3.13_qbz5n2kfra8p0\\localcache\\local-packages\\python313\\site-packages (from matplotlib!=3.6.1,>=3.4->seaborn) (1.4.8)\n",
      "Requirement already satisfied: packaging>=20.0 in c:\\users\\katki\\appdata\\local\\packages\\pythonsoftwarefoundation.python.3.13_qbz5n2kfra8p0\\localcache\\local-packages\\python313\\site-packages (from matplotlib!=3.6.1,>=3.4->seaborn) (24.2)\n",
      "Requirement already satisfied: pillow>=8 in c:\\users\\katki\\appdata\\local\\packages\\pythonsoftwarefoundation.python.3.13_qbz5n2kfra8p0\\localcache\\local-packages\\python313\\site-packages (from matplotlib!=3.6.1,>=3.4->seaborn) (11.1.0)\n",
      "Requirement already satisfied: pyparsing>=2.3.1 in c:\\users\\katki\\appdata\\local\\packages\\pythonsoftwarefoundation.python.3.13_qbz5n2kfra8p0\\localcache\\local-packages\\python313\\site-packages (from matplotlib!=3.6.1,>=3.4->seaborn) (3.2.1)\n",
      "Requirement already satisfied: python-dateutil>=2.7 in c:\\users\\katki\\appdata\\local\\packages\\pythonsoftwarefoundation.python.3.13_qbz5n2kfra8p0\\localcache\\local-packages\\python313\\site-packages (from matplotlib!=3.6.1,>=3.4->seaborn) (2.9.0.post0)\n",
      "Requirement already satisfied: pytz>=2020.1 in c:\\users\\katki\\appdata\\local\\packages\\pythonsoftwarefoundation.python.3.13_qbz5n2kfra8p0\\localcache\\local-packages\\python313\\site-packages (from pandas>=1.2->seaborn) (2025.1)\n",
      "Requirement already satisfied: tzdata>=2022.7 in c:\\users\\katki\\appdata\\local\\packages\\pythonsoftwarefoundation.python.3.13_qbz5n2kfra8p0\\localcache\\local-packages\\python313\\site-packages (from pandas>=1.2->seaborn) (2025.1)\n",
      "Requirement already satisfied: six>=1.5 in c:\\users\\katki\\appdata\\local\\packages\\pythonsoftwarefoundation.python.3.13_qbz5n2kfra8p0\\localcache\\local-packages\\python313\\site-packages (from python-dateutil>=2.7->matplotlib!=3.6.1,>=3.4->seaborn) (1.17.0)\n"
     ]
    }
   ],
   "source": [
    "!pip install seaborn"
   ]
  },
  {
   "cell_type": "code",
   "execution_count": 12,
   "id": "bcc2f85e-7d0c-4f05-97fc-745556a1ff05",
   "metadata": {},
   "outputs": [],
   "source": [
    "import seaborn as sns"
   ]
  },
  {
   "cell_type": "code",
   "execution_count": 13,
   "id": "5abf3b80-e60e-42ae-9d6b-347601129a62",
   "metadata": {},
   "outputs": [
    {
     "data": {
      "text/plain": [
       "<Figure size 800x500 with 0 Axes>"
      ]
     },
     "execution_count": 13,
     "metadata": {},
     "output_type": "execute_result"
    },
    {
     "data": {
      "text/plain": [
       "<Figure size 800x500 with 0 Axes>"
      ]
     },
     "metadata": {},
     "output_type": "display_data"
    }
   ],
   "source": [
    "#Ride count per company\n",
    "plt.figure(figsize=(8,5))"
   ]
  },
  {
   "cell_type": "code",
   "execution_count": 14,
   "id": "5aead644-f756-4d89-bf30-a0a504655e9b",
   "metadata": {},
   "outputs": [
    {
     "data": {
      "image/png": "[encoded data removed]",
      "text/plain": [
       "<Figure size 640x480 with 1 Axes>"
      ]
     },
     "metadata": {},
     "output_type": "display_data"
    }
   ],
   "source": [
    "sns.countplot(data=master_data, x=\"Company\", hue=\"Company\", palette=\"coolwarm\", legend=False)\n",
    "\n",
    "plt.title(\"Total Rides per Company\")\n",
    "plt.xlabel(\"Cab Company\")\n",
    "plt.ylabel(\"Ride Count\")\n",
    "plt.show()"
   ]
  },
  {
   "cell_type": "code",
   "execution_count": 15,
   "id": "308d349c-dac0-45e5-9a3e-a534e9a715a4",
   "metadata": {},
   "outputs": [
    {
     "data": {
      "image/png": "[encoded data removed]",
      "text/plain": [
       "<Figure size 800x500 with 1 Axes>"
      ]
     },
     "metadata": {},
     "output_type": "display_data"
    }
   ],
   "source": [
    "#Revenue comparison\n",
    "plt.figure(figsize=(8,5))\n",
    "\n",
    "sns.boxplot(data=master_data, x=\"Company\", y=\"Price Charged\", hue=\"Company\", palette=\"coolwarm\", legend=False)\n",
    "\n",
    "plt.title(\"Revenue Distribution by Company\")\n",
    "plt.xlabel(\"Cab Company\")\n",
    "plt.ylabel(\"Price Charged\")\n",
    "plt.show()"
   ]
  },
  {
   "cell_type": "code",
   "execution_count": 16,
   "id": "8a8e03d1-035f-4b89-b159-03c5787ccff3",
   "metadata": {},
   "outputs": [
    {
     "name": "stdout",
     "output_type": "stream",
     "text": [
      "Index(['Transaction ID', 'Date of Travel', 'Company', 'City', 'KM Travelled',\n",
      "       'Price Charged', 'Cost of Trip', 'Customer ID', 'Payment_Mode',\n",
      "       'Gender', 'Age', 'Income (USD/Month)', 'Population', 'Users'],\n",
      "      dtype='object')\n"
     ]
    }
   ],
   "source": [
    "print(master_data.columns)"
   ]
  },
  {
   "cell_type": "code",
   "execution_count": 17,
   "id": "ac9ed954-e198-40d9-b884-344244194a74",
   "metadata": {},
   "outputs": [],
   "source": [
    "master_data.rename(columns={\"Date of Travel\": \"Date\"}, inplace=True)"
   ]
  },
  {
   "cell_type": "code",
   "execution_count": 18,
   "id": "855a1053-3eec-4d5a-833e-9e4bf15ca61c",
   "metadata": {},
   "outputs": [
    {
     "name": "stdout",
     "output_type": "stream",
     "text": [
      "Index(['Transaction ID', 'Date of Travel', 'Company', 'City', 'KM Travelled',\n",
      "       'Price Charged', 'Cost of Trip'],\n",
      "      dtype='object')\n"
     ]
    }
   ],
   "source": [
    "print(cab_data.columns)"
   ]
  },
  {
   "cell_type": "code",
   "execution_count": 19,
   "id": "a75ef53e-4fdd-4a0a-beee-df59acaddc73",
   "metadata": {},
   "outputs": [
    {
     "name": "stdout",
     "output_type": "stream",
     "text": [
      "Index(['Transaction ID', 'Customer ID', 'Payment_Mode'], dtype='object')\n"
     ]
    }
   ],
   "source": [
    "print(transaction_data.columns)"
   ]
  },
  {
   "cell_type": "code",
   "execution_count": 20,
   "id": "d28a0406-2efb-4640-8048-e8e4fb54c9d3",
   "metadata": {},
   "outputs": [
    {
     "name": "stdout",
     "output_type": "stream",
     "text": [
      "Index(['Customer ID', 'Gender', 'Age', 'Income (USD/Month)'], dtype='object')\n"
     ]
    }
   ],
   "source": [
    "print(customer_data.columns)"
   ]
  },
  {
   "cell_type": "code",
   "execution_count": 21,
   "id": "72b428f0-1e68-4d62-8f62-92109c4403ac",
   "metadata": {},
   "outputs": [
    {
     "name": "stdout",
     "output_type": "stream",
     "text": [
      "Index(['City', 'Population', 'Users'], dtype='object')\n"
     ]
    }
   ],
   "source": [
    "print(city_data.columns)"
   ]
  },
  {
   "cell_type": "code",
   "execution_count": 22,
   "id": "f33232ee-162d-463b-aa29-72980bd39a1b",
   "metadata": {},
   "outputs": [],
   "source": [
    "#Seasonality Trends Analysis--analyzing how cab rides fluctuate across months\n",
    "master_data[\"Date\"] = pd.to_datetime(master_data[\"Date\"])"
   ]
  },
  {
   "cell_type": "code",
   "execution_count": 23,
   "id": "9231cbf2-c08c-4e4d-ac7c-28592c33e2a2",
   "metadata": {},
   "outputs": [],
   "source": [
    "#Grouping by month\n",
    "monthly_trend = master_data.groupby(master_data[\"Date\"].dt.month)[\"Transaction ID\"].count()"
   ]
  },
  {
   "cell_type": "code",
   "execution_count": 24,
   "id": "b02c859f-03a5-4395-b4a3-bdd7ec29a5e9",
   "metadata": {},
   "outputs": [
    {
     "data": {
      "image/png": "[encoded data removed]",
      "text/plain": [
       "<Figure size 1000x500 with 1 Axes>"
      ]
     },
     "metadata": {},
     "output_type": "display_data"
    }
   ],
   "source": [
    "#Plotting monthly trends\n",
    "plt.figure(figsize=(10,5))\n",
    "monthly_trend.plot(marker=\"o\", linestyle=\"-\")\n",
    "plt.title(\"Monthly Ride Trends\")\n",
    "plt.xlabel(\"Month\")\n",
    "plt.ylabel(\"Number of Rides\")\n",
    "plt.show()"
   ]
  },
  {
   "cell_type": "code",
   "execution_count": 25,
   "id": "be92c03c-9194-44e9-bc88-ef36470c0808",
   "metadata": {},
   "outputs": [
    {
     "name": "stdout",
     "output_type": "stream",
     "text": [
      "Defaulting to user installation because normal site-packages is not writeable\n",
      "Requirement already satisfied: scipy in c:\\users\\katki\\appdata\\local\\packages\\pythonsoftwarefoundation.python.3.13_qbz5n2kfra8p0\\localcache\\local-packages\\python313\\site-packages (1.15.2)\n",
      "Requirement already satisfied: numpy<2.5,>=1.23.5 in c:\\users\\katki\\appdata\\local\\packages\\pythonsoftwarefoundation.python.3.13_qbz5n2kfra8p0\\localcache\\local-packages\\python313\\site-packages (from scipy) (2.2.3)\n"
     ]
    }
   ],
   "source": [
    "!pip install scipy"
   ]
  },
  {
   "cell_type": "code",
   "execution_count": 26,
   "id": "7ccf38fb-7142-4ea9-8b6a-110be30330a1",
   "metadata": {},
   "outputs": [],
   "source": [
    "import scipy.stats as stats"
   ]
  },
  {
   "cell_type": "code",
   "execution_count": 27,
   "id": "c147f03c-9a70-41f2-a0f3-11580d0b4913",
   "metadata": {},
   "outputs": [],
   "source": [
    "#Grouping the ride counts by month\n",
    "monthly_counts = master_data.groupby(master_data[\"Date\"].dt.month)[\"Transaction ID\"].count()"
   ]
  },
  {
   "cell_type": "code",
   "execution_count": 28,
   "id": "be897dd9-e6e1-4805-bf9b-8934500a3e77",
   "metadata": {},
   "outputs": [
    {
     "name": "stdout",
     "output_type": "stream",
     "text": [
      "[ 1  2  3  4  5  6  7  8  9 10 11 12]\n"
     ]
    }
   ],
   "source": [
    "print(master_data[\"Date\"].dt.month.unique()) #Checking unique months"
   ]
  },
  {
   "cell_type": "code",
   "execution_count": 29,
   "id": "c9f0ed10-e953-434a-9b52-ae16d5df3b05",
   "metadata": {},
   "outputs": [
    {
     "name": "stdout",
     "output_type": "stream",
     "text": [
      "Date\n",
      "1     23174\n",
      "2     18307\n",
      "3     21646\n",
      "4     21434\n",
      "5     23701\n",
      "6     24713\n",
      "7     27676\n",
      "8     31323\n",
      "9     36859\n",
      "10    40852\n",
      "11    42700\n",
      "12    47007\n",
      "Name: Transaction ID, dtype: int64\n"
     ]
    }
   ],
   "source": [
    "print(master_data.groupby(master_data[\"Date\"].dt.month)[\"Transaction ID\"].count()) #Counting rides per month"
   ]
  },
  {
   "cell_type": "code",
   "execution_count": 30,
   "id": "f64fbdf3-be53-4471-92ad-5c9ec44c4ddb",
   "metadata": {},
   "outputs": [],
   "source": [
    "master_data[\"Date\"] = pd.to_datetime(master_data[\"Date\"])"
   ]
  },
  {
   "cell_type": "code",
   "execution_count": 31,
   "id": "b1251883-d089-415f-833c-3a3d3c93bcab",
   "metadata": {},
   "outputs": [],
   "source": [
    "monthly_groups = [group[\"Transaction ID\"].values for _, group in master_data.groupby(master_data[\"Date\"].dt.month)]"
   ]
  },
  {
   "cell_type": "code",
   "execution_count": 32,
   "id": "5f29d4a4-4746-47fb-a6d7-3cdb785d9feb",
   "metadata": {},
   "outputs": [
    {
     "name": "stdout",
     "output_type": "stream",
     "text": [
      "Total Observations: 359392\n"
     ]
    }
   ],
   "source": [
    "num_rows = master_data.shape[0] #Total rows\n",
    "print(f\"Total Observations: {num_rows}\")"
   ]
  },
  {
   "cell_type": "code",
   "execution_count": 33,
   "id": "ebf28d21-c896-4aca-be25-319e270e24d3",
   "metadata": {},
   "outputs": [
    {
     "name": "stdout",
     "output_type": "stream",
     "text": [
      "Total Features: 14\n"
     ]
    }
   ],
   "source": [
    "num_columns = master_data.shape[1] #Total columns\n",
    "print(f\"Total Features: {num_columns}\")"
   ]
  },
  {
   "cell_type": "code",
   "execution_count": 34,
   "id": "98fe3e82-333b-42bb-bc54-a79d8f200645",
   "metadata": {},
   "outputs": [
    {
     "name": "stdout",
     "output_type": "stream",
     "text": [
      "Size of Master Data: 137.98 MB\n"
     ]
    }
   ],
   "source": [
    "data_size = master_data.memory_usage(deep=True).sum() / (1024 * 1024)\n",
    "print(f\"Size of Master Data: {data_size:.2f} MB\")"
   ]
  },
  {
   "cell_type": "code",
   "execution_count": 35,
   "id": "69b30f47-2c3f-4e4b-9704-b7b9af698572",
   "metadata": {},
   "outputs": [],
   "source": [
    "#Overview of Profitability Analysis\n",
    "#Comparing total revenue, total cost, and total profit betwen Yellow Cab and Pink Cab\n",
    "#Price vs Cost comparison\n",
    "cab_data[\"Profit\"] = cab_data[\"Price Charged\"] - cab_data[\"Cost of Trip\"]"
   ]
  },
  {
   "cell_type": "code",
   "execution_count": 36,
   "id": "5a119a01-aa41-4609-951b-760dae7912c0",
   "metadata": {},
   "outputs": [
    {
     "data": {
      "text/html": [
       "<div>\n",
       "<style scoped>\n",
       "    .dataframe tbody tr th:only-of-type {\n",
       "        vertical-align: middle;\n",
       "    }\n",
       "\n",
       "    .dataframe tbody tr th {\n",
       "        vertical-align: top;\n",
       "    }\n",
       "\n",
       "    .dataframe thead th {\n",
       "        text-align: right;\n",
       "    }\n",
       "</style>\n",
       "<table border=\"1\" class=\"dataframe\">\n",
       "  <thead>\n",
       "    <tr style=\"text-align: right;\">\n",
       "      <th></th>\n",
       "      <th>Transaction ID</th>\n",
       "      <th>Date of Travel</th>\n",
       "      <th>Company</th>\n",
       "      <th>City</th>\n",
       "      <th>KM Travelled</th>\n",
       "      <th>Price Charged</th>\n",
       "      <th>Cost of Trip</th>\n",
       "      <th>Profit</th>\n",
       "    </tr>\n",
       "  </thead>\n",
       "  <tbody>\n",
       "    <tr>\n",
       "      <th>0</th>\n",
       "      <td>10000011</td>\n",
       "      <td>2016-01-08</td>\n",
       "      <td>Pink Cab</td>\n",
       "      <td>ATLANTA GA</td>\n",
       "      <td>30.45</td>\n",
       "      <td>370.95</td>\n",
       "      <td>313.635</td>\n",
       "      <td>57.315</td>\n",
       "    </tr>\n",
       "    <tr>\n",
       "      <th>1</th>\n",
       "      <td>10000012</td>\n",
       "      <td>2016-01-06</td>\n",
       "      <td>Pink Cab</td>\n",
       "      <td>ATLANTA GA</td>\n",
       "      <td>28.62</td>\n",
       "      <td>358.52</td>\n",
       "      <td>334.854</td>\n",
       "      <td>23.666</td>\n",
       "    </tr>\n",
       "    <tr>\n",
       "      <th>2</th>\n",
       "      <td>10000013</td>\n",
       "      <td>2016-01-02</td>\n",
       "      <td>Pink Cab</td>\n",
       "      <td>ATLANTA GA</td>\n",
       "      <td>9.04</td>\n",
       "      <td>125.20</td>\n",
       "      <td>97.632</td>\n",
       "      <td>27.568</td>\n",
       "    </tr>\n",
       "    <tr>\n",
       "      <th>3</th>\n",
       "      <td>10000014</td>\n",
       "      <td>2016-01-07</td>\n",
       "      <td>Pink Cab</td>\n",
       "      <td>ATLANTA GA</td>\n",
       "      <td>33.17</td>\n",
       "      <td>377.40</td>\n",
       "      <td>351.602</td>\n",
       "      <td>25.798</td>\n",
       "    </tr>\n",
       "    <tr>\n",
       "      <th>4</th>\n",
       "      <td>10000015</td>\n",
       "      <td>2016-01-03</td>\n",
       "      <td>Pink Cab</td>\n",
       "      <td>ATLANTA GA</td>\n",
       "      <td>8.73</td>\n",
       "      <td>114.62</td>\n",
       "      <td>97.776</td>\n",
       "      <td>16.844</td>\n",
       "    </tr>\n",
       "  </tbody>\n",
       "</table>\n",
       "</div>"
      ],
      "text/plain": [
       "   Transaction ID Date of Travel   Company        City  KM Travelled  \\\n",
       "0        10000011     2016-01-08  Pink Cab  ATLANTA GA         30.45   \n",
       "1        10000012     2016-01-06  Pink Cab  ATLANTA GA         28.62   \n",
       "2        10000013     2016-01-02  Pink Cab  ATLANTA GA          9.04   \n",
       "3        10000014     2016-01-07  Pink Cab  ATLANTA GA         33.17   \n",
       "4        10000015     2016-01-03  Pink Cab  ATLANTA GA          8.73   \n",
       "\n",
       "   Price Charged  Cost of Trip  Profit  \n",
       "0         370.95       313.635  57.315  \n",
       "1         358.52       334.854  23.666  \n",
       "2         125.20        97.632  27.568  \n",
       "3         377.40       351.602  25.798  \n",
       "4         114.62        97.776  16.844  "
      ]
     },
     "metadata": {},
     "output_type": "display_data"
    }
   ],
   "source": [
    "display(cab_data.head()) #Viewing first few rows with the new Profit column"
   ]
  },
  {
   "cell_type": "code",
   "execution_count": 37,
   "id": "32c7d355-b6ac-4fd9-b89e-8535f3566cd0",
   "metadata": {},
   "outputs": [
    {
     "data": {
      "text/html": [
       "<div>\n",
       "<style scoped>\n",
       "    .dataframe tbody tr th:only-of-type {\n",
       "        vertical-align: middle;\n",
       "    }\n",
       "\n",
       "    .dataframe tbody tr th {\n",
       "        vertical-align: top;\n",
       "    }\n",
       "\n",
       "    .dataframe thead th {\n",
       "        text-align: right;\n",
       "    }\n",
       "</style>\n",
       "<table border=\"1\" class=\"dataframe\">\n",
       "  <thead>\n",
       "    <tr style=\"text-align: right;\">\n",
       "      <th></th>\n",
       "      <th>sum</th>\n",
       "      <th>mean</th>\n",
       "      <th>count</th>\n",
       "    </tr>\n",
       "    <tr>\n",
       "      <th>Company</th>\n",
       "      <th></th>\n",
       "      <th></th>\n",
       "      <th></th>\n",
       "    </tr>\n",
       "  </thead>\n",
       "  <tbody>\n",
       "    <tr>\n",
       "      <th>Pink Cab</th>\n",
       "      <td>5.307328e+06</td>\n",
       "      <td>62.652174</td>\n",
       "      <td>84711</td>\n",
       "    </tr>\n",
       "    <tr>\n",
       "      <th>Yellow Cab</th>\n",
       "      <td>4.402037e+07</td>\n",
       "      <td>160.259986</td>\n",
       "      <td>274681</td>\n",
       "    </tr>\n",
       "  </tbody>\n",
       "</table>\n",
       "</div>"
      ],
      "text/plain": [
       "                     sum        mean   count\n",
       "Company                                     \n",
       "Pink Cab    5.307328e+06   62.652174   84711\n",
       "Yellow Cab  4.402037e+07  160.259986  274681"
      ]
     },
     "metadata": {},
     "output_type": "display_data"
    }
   ],
   "source": [
    "profit_summary = cab_data.groupby(\"Company\")[\"Profit\"].agg([\"sum\", \"mean\", \"count\"])\n",
    "display(profit_summary)"
   ]
  },
  {
   "cell_type": "code",
   "execution_count": 38,
   "id": "51d1d27d-3b5a-4dc9-8c76-f6ad57736639",
   "metadata": {},
   "outputs": [
    {
     "data": {
      "image/png": "[encoded data removed]",
      "text/plain": [
       "<Figure size 800x500 with 1 Axes>"
      ]
     },
     "metadata": {},
     "output_type": "display_data"
    }
   ],
   "source": [
    "plt.figure(figsize=(8,5))\n",
    "\n",
    "barplot = sns.barplot(data=cab_data, x=\"Company\", y=\"Profit\", hue=\"Company\", palette=\"coolwarm\", estimator=lambda x:sum(x))\n",
    "\n",
    "plt.legend([], [], frameon=False)\n",
    "\n",
    "plt.title(\"Total Profit Comparison: Pink Cab vs Yellow Cab\")\n",
    "plt.ylabel(\"Total Profit ($)\")\n",
    "plt.xlabel(\"Cab Company\")\n",
    "plt.show()"
   ]
  },
  {
   "cell_type": "code",
   "execution_count": 39,
   "id": "a8f06835-a6ed-45c3-a254-326173a6aa29",
   "metadata": {},
   "outputs": [
    {
     "data": {
      "text/html": [
       "<div>\n",
       "<style scoped>\n",
       "    .dataframe tbody tr th:only-of-type {\n",
       "        vertical-align: middle;\n",
       "    }\n",
       "\n",
       "    .dataframe tbody tr th {\n",
       "        vertical-align: top;\n",
       "    }\n",
       "\n",
       "    .dataframe thead th {\n",
       "        text-align: right;\n",
       "    }\n",
       "</style>\n",
       "<table border=\"1\" class=\"dataframe\">\n",
       "  <thead>\n",
       "    <tr style=\"text-align: right;\">\n",
       "      <th></th>\n",
       "      <th>Company</th>\n",
       "      <th>Ave_Age</th>\n",
       "      <th>Ave_Income</th>\n",
       "    </tr>\n",
       "  </thead>\n",
       "  <tbody>\n",
       "    <tr>\n",
       "      <th>0</th>\n",
       "      <td>Pink Cab</td>\n",
       "      <td>35.322414</td>\n",
       "      <td>15059.047137</td>\n",
       "    </tr>\n",
       "    <tr>\n",
       "      <th>1</th>\n",
       "      <td>Yellow Cab</td>\n",
       "      <td>35.341112</td>\n",
       "      <td>15045.669817</td>\n",
       "    </tr>\n",
       "  </tbody>\n",
       "</table>\n",
       "</div>"
      ],
      "text/plain": [
       "      Company    Ave_Age    Ave_Income\n",
       "0    Pink Cab  35.322414  15059.047137\n",
       "1  Yellow Cab  35.341112  15045.669817"
      ]
     },
     "metadata": {},
     "output_type": "display_data"
    }
   ],
   "source": [
    "#Overview of Customer Segmentation Analysis-- how customer age and income impact cab choice\n",
    "\n",
    "#Group by Company to analyse customer characteristics\n",
    "customer_summary = master_data.groupby(\"Company\").agg(\n",
    "    Ave_Age=(\"Age\", \"mean\"),\n",
    "    Ave_Income=(\"Income (USD/Month)\", \"mean\")\n",
    ").reset_index()\n",
    "\n",
    "display(customer_summary)\n"
   ]
  },
  {
   "cell_type": "code",
   "execution_count": 40,
   "id": "cb77d6fa-ea12-46f4-bac5-fddfd9d584dc",
   "metadata": {},
   "outputs": [
    {
     "data": {
      "image/png": "[encoded data removed]",
      "text/plain": [
       "<Figure size 1000x500 with 1 Axes>"
      ]
     },
     "metadata": {},
     "output_type": "display_data"
    }
   ],
   "source": [
    "#Income Distribution by Company\n",
    "plt.figure(figsize=(10,5))\n",
    "sns.boxplot(data=master_data, x=\"Company\", y=\"Income (USD/Month)\", hue=\"Company\", palette=\"coolwarm\", legend=False)\n",
    "plt.title(\"Income Distribution by Cab Company\")\n",
    "plt.xlabel(\"Cab Company\")\n",
    "plt.ylabel(\"Income (USD/Month)\")\n",
    "plt.show()"
   ]
  },
  {
   "cell_type": "code",
   "execution_count": 41,
   "id": "c45b46e1-0372-44b3-b1b3-68d07297fd4b",
   "metadata": {},
   "outputs": [
    {
     "data": {
      "image/png": "[encoded data removed]",
      "text/plain": [
       "<Figure size 1000x500 with 1 Axes>"
      ]
     },
     "metadata": {},
     "output_type": "display_data"
    }
   ],
   "source": [
    "#Age Distribution by Company\n",
    "plt.figure(figsize=(10,5))\n",
    "sns.boxplot(data=master_data, x=\"Company\", y=\"Age\", hue=\"Company\", palette=\"coolwarm\", legend=False)\n",
    "plt.title(\"Age Distribution by Cab Company\")\n",
    "plt.xlabel(\"Cab Company\")\n",
    "plt.ylabel(\"Age\")\n",
    "plt.show()"
   ]
  },
  {
   "cell_type": "code",
   "execution_count": 42,
   "id": "2d3ed4bf-e65b-4762-a07f-12b7f5e9dece",
   "metadata": {},
   "outputs": [
    {
     "data": {
      "text/html": [
       "<div>\n",
       "<style scoped>\n",
       "    .dataframe tbody tr th:only-of-type {\n",
       "        vertical-align: middle;\n",
       "    }\n",
       "\n",
       "    .dataframe tbody tr th {\n",
       "        vertical-align: top;\n",
       "    }\n",
       "\n",
       "    .dataframe thead th {\n",
       "        text-align: right;\n",
       "    }\n",
       "</style>\n",
       "<table border=\"1\" class=\"dataframe\">\n",
       "  <thead>\n",
       "    <tr style=\"text-align: right;\">\n",
       "      <th></th>\n",
       "      <th>City</th>\n",
       "      <th>Total_Rides</th>\n",
       "      <th>Total_Revenue</th>\n",
       "      <th>Total_Profit</th>\n",
       "    </tr>\n",
       "  </thead>\n",
       "  <tbody>\n",
       "    <tr>\n",
       "      <th>9</th>\n",
       "      <td>NEW YORK NY</td>\n",
       "      <td>99885</td>\n",
       "      <td>56,954,061.67</td>\n",
       "      <td>27,962,555.16</td>\n",
       "    </tr>\n",
       "    <tr>\n",
       "      <th>6</th>\n",
       "      <td>LOS ANGELES CA</td>\n",
       "      <td>48033</td>\n",
       "      <td>17,795,624.41</td>\n",
       "      <td>4,411,708.65</td>\n",
       "    </tr>\n",
       "    <tr>\n",
       "      <th>18</th>\n",
       "      <td>WASHINGTON DC</td>\n",
       "      <td>43737</td>\n",
       "      <td>16,366,703.83</td>\n",
       "      <td>3,492,870.16</td>\n",
       "    </tr>\n",
       "    <tr>\n",
       "      <th>3</th>\n",
       "      <td>CHICAGO IL</td>\n",
       "      <td>56625</td>\n",
       "      <td>19,841,318.52</td>\n",
       "      <td>3,387,313.41</td>\n",
       "    </tr>\n",
       "    <tr>\n",
       "      <th>2</th>\n",
       "      <td>BOSTON MA</td>\n",
       "      <td>29692</td>\n",
       "      <td>10,359,755.42</td>\n",
       "      <td>1,768,719.27</td>\n",
       "    </tr>\n",
       "    <tr>\n",
       "      <th>14</th>\n",
       "      <td>SAN DIEGO CA</td>\n",
       "      <td>20488</td>\n",
       "      <td>7,136,380.59</td>\n",
       "      <td>1,587,163.47</td>\n",
       "    </tr>\n",
       "    <tr>\n",
       "      <th>16</th>\n",
       "      <td>SILICON VALLEY</td>\n",
       "      <td>8519</td>\n",
       "      <td>3,684,102.15</td>\n",
       "      <td>1,316,705.27</td>\n",
       "    </tr>\n",
       "    <tr>\n",
       "      <th>4</th>\n",
       "      <td>DALLAS TX</td>\n",
       "      <td>7017</td>\n",
       "      <td>3,142,429.91</td>\n",
       "      <td>1,128,733.27</td>\n",
       "    </tr>\n",
       "    <tr>\n",
       "      <th>0</th>\n",
       "      <td>ATLANTA GA</td>\n",
       "      <td>7557</td>\n",
       "      <td>2,980,241.72</td>\n",
       "      <td>842,432.88</td>\n",
       "    </tr>\n",
       "    <tr>\n",
       "      <th>7</th>\n",
       "      <td>MIAMI FL</td>\n",
       "      <td>6454</td>\n",
       "      <td>2,580,135.20</td>\n",
       "      <td>758,301.24</td>\n",
       "    </tr>\n",
       "  </tbody>\n",
       "</table>\n",
       "</div>"
      ],
      "text/plain": [
       "              City  Total_Rides  Total_Revenue   Total_Profit\n",
       "9      NEW YORK NY        99885  56,954,061.67  27,962,555.16\n",
       "6   LOS ANGELES CA        48033  17,795,624.41   4,411,708.65\n",
       "18   WASHINGTON DC        43737  16,366,703.83   3,492,870.16\n",
       "3       CHICAGO IL        56625  19,841,318.52   3,387,313.41\n",
       "2        BOSTON MA        29692  10,359,755.42   1,768,719.27\n",
       "14    SAN DIEGO CA        20488   7,136,380.59   1,587,163.47\n",
       "16  SILICON VALLEY         8519   3,684,102.15   1,316,705.27\n",
       "4        DALLAS TX         7017   3,142,429.91   1,128,733.27\n",
       "0       ATLANTA GA         7557   2,980,241.72     842,432.88\n",
       "7         MIAMI FL         6454   2,580,135.20     758,301.24"
      ]
     },
     "metadata": {},
     "output_type": "display_data"
    }
   ],
   "source": [
    "#City-Based Performance Analysis--which cities generate the most revenue & profit\n",
    "\n",
    "if \"Profit\" not in master_data.columns:\n",
    "    master_data[\"Profit\"] = master_data[\"Price Charged\"] - master_data[\"Cost of Trip\"]\n",
    "\n",
    "#Group by City to analyze revenue & profit\n",
    "city_summary = master_data.groupby(\"City\").agg(\n",
    "    Total_Rides=(\"Transaction ID\", \"count\"),\n",
    "    Total_Revenue=(\"Price Charged\", \"sum\"),\n",
    "    Total_Profit=(\"Profit\", \"sum\"),\n",
    ").reset_index()\n",
    "\n",
    "#Show Top 10 Cities by Profit\n",
    "top_cities = city_summary.sort_values(\"Total_Profit\", ascending=False).head(10)\n",
    "\n",
    "#Reformat Total Profit and Total Revenue for better readability\n",
    "top_cities[\"Total_Profit\"] = top_cities[\"Total_Profit\"].astype(float)\n",
    "top_cities[\"Total_Revenue\"] = top_cities[\"Total_Revenue\"].astype(float)\n",
    "\n",
    "top_cities[\"Total_Profit\"] = top_cities[\"Total_Profit\"].map(\"{:,.2f}\".format)\n",
    "top_cities[\"Total_Revenue\"] = top_cities[\"Total_Revenue\"].map(\"{:,.2f}\".format)\n",
    "\n",
    "#Display the data\n",
    "display(top_cities)"
   ]
  },
  {
   "cell_type": "code",
   "execution_count": 43,
   "id": "718c1e2f-e9d3-46e9-9cfc-45d7e7d35318",
   "metadata": {},
   "outputs": [],
   "source": [
    "#Convert Total_Profit to float in case it is formatted as a string\n",
    "top_cities[\"Total Profit\"] = top_cities[\"Total_Profit\"].replace({\",\":\"\"}, regex=True).astype(float)"
   ]
  },
  {
   "cell_type": "code",
   "execution_count": 44,
   "id": "44ceb7f7-b0ab-40ac-9d9e-ee7ecb634744",
   "metadata": {},
   "outputs": [
    {
     "data": {
      "image/png": "[encoded data removed]",
      "text/plain": [
       "<Figure size 1200x600 with 1 Axes>"
      ]
     },
     "metadata": {},
     "output_type": "display_data"
    }
   ],
   "source": [
    "#Plotting bar chart\n",
    "plt.figure(figsize=(12,6))\n",
    "sns.barplot(data=top_cities, x=\"Total Profit\", y=\"City\", hue=\"Total Profit\", palette=\"coolwarm\", legend=False)\n",
    "plt.title(\"Top 10 Most Profitable Cities for Cab Companies\")\n",
    "plt.xlabel(\"Total Profit ($)\")\n",
    "plt.ylabel(\"City\")\n",
    "plt.xticks(rotation=45)\n",
    "plt.grid(axis=\"x\", linestyle=\"--\", alpha=0.7)\n",
    "\n",
    "#Show chart\n",
    "plt.show()"
   ]
  },
  {
   "cell_type": "code",
   "execution_count": 45,
   "id": "29707d9d-ba99-40c3-88d5-12dda54d70b0",
   "metadata": {},
   "outputs": [],
   "source": [
    "#5-7 hypothesis' that my coding helped show\n",
    "#1. Yellow Cab generates higher revenue and profit than Pink Cab\n",
    "#2. High-Income customers prefer Yellow Cab over Pink Cab\n",
    "#3. Cab demand is higher during specific months due to seasonality\n",
    "#4. New York, Los Angeles, & Washington DC are the most profitable markets\n",
    "#5. Longer trips generate higher profits for the cab companies\n",
    "#6. Customers prefer credit cards over cash for payment\n",
    "#7. Customer age influence ride preference"
   ]
  },
  {
   "cell_type": "code",
   "execution_count": null,
   "id": "7fbaed21-ccf7-445b-9a99-da22119156de",
   "metadata": {},
   "outputs": [],
   "source": []
  }
 ],
 "metadata": {
  "kernelspec": {
   "display_name": "Python 3 (ipykernel)",
   "language": "python",
   "name": "python3"
  },
  "language_info": {
   "codemirror_mode": {
    "name": "ipython",
    "version": 3
   },
   "file_extension": ".py",
   "mimetype": "text/x-python",
   "name": "python",
   "nbconvert_exporter": "python",
   "pygments_lexer": "ipython3",
   "version": "3.13.2"
  }
 },
 "nbformat": 4,
 "nbformat_minor": 5
}
